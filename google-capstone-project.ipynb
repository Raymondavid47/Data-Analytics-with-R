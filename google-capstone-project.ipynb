{
 "cells": [
  {
   "cell_type": "markdown",
   "id": "2444c422",
   "metadata": {
    "papermill": {
     "duration": 0.007811,
     "end_time": "2022-11-16T16:06:59.439845",
     "exception": false,
     "start_time": "2022-11-16T16:06:59.432034",
     "status": "completed"
    },
    "tags": []
   },
   "source": [
    "---\n",
    "# **Capstone_Project**\n",
    "--------------------\n",
    "**David Raymond**\n",
    "\n",
    "10-11-2022\n",
    "\n",
    "---\n",
    "## Introduction\n",
    "\n",
    "This is an analytic capstone project based on a bikeshare company called Cyclistic. Cyclistic is a bike-share company based in Chicago and are looking forward to increasing their revenue in the coming season with the help of data analytics. I am here to provide the stake-holders with the necessary analysis to make this goal a reality.\n",
    "\n",
    "## Objective\n",
    "\n",
    "The main Objective of this project is to provide the the team with data oriented analysis of how casual riders and annual members use Cyclistic bikes differently. From this analysis, insights will be drawn on how to convert causal riders to annual members.\n",
    "\n",
    "------------------------------------------------------------------------\n",
    "\n",
    "I will be loading some important r packages that are already installed for the purpose of this anlysis. This r pakages are used in cleaning data and creating data visualization."
   ]
  },
  {
   "cell_type": "code",
   "execution_count": 1,
   "id": "3f083bd7",
   "metadata": {
    "execution": {
     "iopub.execute_input": "2022-11-16T16:06:59.456406Z",
     "iopub.status.busy": "2022-11-16T16:06:59.454428Z",
     "iopub.status.idle": "2022-11-16T16:07:01.159790Z",
     "shell.execute_reply": "2022-11-16T16:07:01.157735Z"
    },
    "papermill": {
     "duration": 1.717192,
     "end_time": "2022-11-16T16:07:01.163233",
     "exception": false,
     "start_time": "2022-11-16T16:06:59.446041",
     "status": "completed"
    },
    "tags": []
   },
   "outputs": [],
   "source": [
    "pacman::p_load(lubridate,tidyverse, ggplot2, dplyr, readr, janitor, data.table, tidyr)\n"
   ]
  },
  {
   "cell_type": "code",
   "execution_count": 2,
   "id": "cf38869b",
   "metadata": {
    "execution": {
     "iopub.execute_input": "2022-11-16T16:07:01.221544Z",
     "iopub.status.busy": "2022-11-16T16:07:01.177786Z",
     "iopub.status.idle": "2022-11-16T16:07:31.315739Z",
     "shell.execute_reply": "2022-11-16T16:07:31.313417Z"
    },
    "papermill": {
     "duration": 30.148993,
     "end_time": "2022-11-16T16:07:31.318475",
     "exception": false,
     "start_time": "2022-11-16T16:07:01.169482",
     "status": "completed"
    },
    "tags": []
   },
   "outputs": [
    {
     "name": "stdout",
     "output_type": "stream",
     "text": [
      "Rows: 96,834\n",
      "Columns: 13\n",
      "$ ride_id            \u001b[3m\u001b[90m<chr>\u001b[39m\u001b[23m \"E19E6F1B8D4C42ED\", \"DC88F20C2C55F27F\", \"EC45C94683…\n",
      "$ rideable_type      \u001b[3m\u001b[90m<chr>\u001b[39m\u001b[23m \"electric_bike\", \"electric_bike\", \"electric_bike\", …\n",
      "$ started_at         \u001b[3m\u001b[90m<dttm>\u001b[39m\u001b[23m 2021-01-23 16:14:19, 2021-01-27 18:43:08, 2021-01-…\n",
      "$ ended_at           \u001b[3m\u001b[90m<dttm>\u001b[39m\u001b[23m 2021-01-23 16:24:44, 2021-01-27 18:47:12, 2021-01-…\n",
      "$ start_station_name \u001b[3m\u001b[90m<chr>\u001b[39m\u001b[23m \"California Ave & Cortez St\", \"California Ave & Cor…\n",
      "$ start_station_id   \u001b[3m\u001b[90m<chr>\u001b[39m\u001b[23m \"17660\", \"17660\", \"17660\", \"17660\", \"17660\", \"17660…\n",
      "$ end_station_name   \u001b[3m\u001b[90m<chr>\u001b[39m\u001b[23m NA, NA, NA, NA, NA, NA, NA, NA, NA, \"Wood St & Augu…\n",
      "$ end_station_id     \u001b[3m\u001b[90m<chr>\u001b[39m\u001b[23m NA, NA, NA, NA, NA, NA, NA, NA, NA, \"657\", \"13258\",…\n",
      "$ start_lat          \u001b[3m\u001b[90m<dbl>\u001b[39m\u001b[23m 41.90034, 41.90033, 41.90031, 41.90040, 41.90033, 4…\n",
      "$ start_lng          \u001b[3m\u001b[90m<dbl>\u001b[39m\u001b[23m -87.69674, -87.69671, -87.69664, -87.69666, -87.696…\n",
      "$ end_lat            \u001b[3m\u001b[90m<dbl>\u001b[39m\u001b[23m 41.89000, 41.90000, 41.90000, 41.92000, 41.90000, 4…\n",
      "$ end_lng            \u001b[3m\u001b[90m<dbl>\u001b[39m\u001b[23m -87.72000, -87.69000, -87.70000, -87.69000, -87.700…\n",
      "$ member_casual      \u001b[3m\u001b[90m<chr>\u001b[39m\u001b[23m \"member\", \"member\", \"member\", \"member\", \"casual\", \"…\n",
      "Rows: 49,622\n",
      "Columns: 13\n",
      "$ ride_id            \u001b[3m\u001b[90m<chr>\u001b[39m\u001b[23m \"89E7AA6C29227EFF\", \"0FEFDE2603568365\", \"E6159D746B…\n",
      "$ rideable_type      \u001b[3m\u001b[90m<chr>\u001b[39m\u001b[23m \"classic_bike\", \"classic_bike\", \"electric_bike\", \"c…\n",
      "$ started_at         \u001b[3m\u001b[90m<dttm>\u001b[39m\u001b[23m 2021-02-12 16:14:56, 2021-02-14 17:52:38, 2021-02-…\n",
      "$ ended_at           \u001b[3m\u001b[90m<dttm>\u001b[39m\u001b[23m 2021-02-12 16:21:43, 2021-02-14 18:12:09, 2021-02-…\n",
      "$ start_station_name \u001b[3m\u001b[90m<chr>\u001b[39m\u001b[23m \"Glenwood Ave & Touhy Ave\", \"Glenwood Ave & Touhy A…\n",
      "$ start_station_id   \u001b[3m\u001b[90m<chr>\u001b[39m\u001b[23m \"525\", \"525\", \"KA1503000012\", \"637\", \"13216\", \"1800…\n",
      "$ end_station_name   \u001b[3m\u001b[90m<chr>\u001b[39m\u001b[23m \"Sheridan Rd & Columbia Ave\", \"Bosworth Ave & Howar…\n",
      "$ end_station_id     \u001b[3m\u001b[90m<chr>\u001b[39m\u001b[23m \"660\", \"16806\", \"TA1305000029\", \"TA1305000034\", \"TA…\n",
      "$ start_lat          \u001b[3m\u001b[90m<dbl>\u001b[39m\u001b[23m 42.01270, 42.01270, 41.88579, 41.89563, 41.83473, 4…\n",
      "$ start_lng          \u001b[3m\u001b[90m<dbl>\u001b[39m\u001b[23m -87.66606, -87.66606, -87.63110, -87.67207, -87.625…\n",
      "$ end_lat            \u001b[3m\u001b[90m<dbl>\u001b[39m\u001b[23m 42.00458, 42.01954, 41.88487, 41.90312, 41.83816, 4…\n",
      "$ end_lng            \u001b[3m\u001b[90m<dbl>\u001b[39m\u001b[23m -87.66141, -87.66956, -87.62750, -87.67394, -87.645…\n",
      "$ member_casual      \u001b[3m\u001b[90m<chr>\u001b[39m\u001b[23m \"member\", \"casual\", \"member\", \"member\", \"member\", \"…\n",
      "Rows: 228,496\n",
      "Columns: 13\n",
      "$ ride_id            \u001b[3m\u001b[90m<chr>\u001b[39m\u001b[23m \"CFA86D4455AA1030\", \"30D9DC61227D1AF3\", \"846D87A156…\n",
      "$ rideable_type      \u001b[3m\u001b[90m<chr>\u001b[39m\u001b[23m \"classic_bike\", \"classic_bike\", \"classic_bike\", \"cl…\n",
      "$ started_at         \u001b[3m\u001b[90m<dttm>\u001b[39m\u001b[23m 2021-03-16 08:32:30, 2021-03-28 01:26:28, 2021-03-…\n",
      "$ ended_at           \u001b[3m\u001b[90m<dttm>\u001b[39m\u001b[23m 2021-03-16 08:36:34, 2021-03-28 01:36:55, 2021-03-…\n",
      "$ start_station_name \u001b[3m\u001b[90m<chr>\u001b[39m\u001b[23m \"Humboldt Blvd & Armitage Ave\", \"Humboldt Blvd & Ar…\n",
      "$ start_station_id   \u001b[3m\u001b[90m<chr>\u001b[39m\u001b[23m \"15651\", \"15651\", \"15443\", \"TA1308000021\", \"525\", \"…\n",
      "$ end_station_name   \u001b[3m\u001b[90m<chr>\u001b[39m\u001b[23m \"Stave St & Armitage Ave\", \"Central Park Ave & Bloo…\n",
      "$ end_station_id     \u001b[3m\u001b[90m<chr>\u001b[39m\u001b[23m \"13266\", \"18017\", \"TA1308000043\", \"13323\", \"E008\", …\n",
      "$ start_lat          \u001b[3m\u001b[90m<dbl>\u001b[39m\u001b[23m 41.91751, 41.91751, 41.84273, 41.96881, 42.01270, 4…\n",
      "$ start_lng          \u001b[3m\u001b[90m<dbl>\u001b[39m\u001b[23m -87.70181, -87.70181, -87.63549, -87.65766, -87.666…\n",
      "$ end_lat            \u001b[3m\u001b[90m<dbl>\u001b[39m\u001b[23m 41.91774, 41.91417, 41.83066, 41.95283, 42.05049, 4…\n",
      "$ end_lng            \u001b[3m\u001b[90m<dbl>\u001b[39m\u001b[23m -87.69139, -87.71676, -87.64717, -87.64999, -87.677…\n",
      "$ member_casual      \u001b[3m\u001b[90m<chr>\u001b[39m\u001b[23m \"casual\", \"casual\", \"casual\", \"casual\", \"casual\", \"…\n",
      "Rows: 337,230\n",
      "Columns: 13\n",
      "$ ride_id            \u001b[3m\u001b[90m<chr>\u001b[39m\u001b[23m \"6C992BD37A98A63F\", \"1E0145613A209000\", \"E498E15508…\n",
      "$ rideable_type      \u001b[3m\u001b[90m<chr>\u001b[39m\u001b[23m \"classic_bike\", \"docked_bike\", \"docked_bike\", \"clas…\n",
      "$ started_at         \u001b[3m\u001b[90m<dttm>\u001b[39m\u001b[23m 2021-04-12 18:25:36, 2021-04-27 17:27:11, 2021-04-…\n",
      "$ ended_at           \u001b[3m\u001b[90m<dttm>\u001b[39m\u001b[23m 2021-04-12 18:56:55, 2021-04-27 18:31:29, 2021-04-…\n",
      "$ start_station_name \u001b[3m\u001b[90m<chr>\u001b[39m\u001b[23m \"State St & Pearson St\", \"Dorchester Ave & 49th St\"…\n",
      "$ start_station_id   \u001b[3m\u001b[90m<chr>\u001b[39m\u001b[23m \"TA1307000061\", \"KA1503000069\", \"20121\", \"TA1305000…\n",
      "$ end_station_name   \u001b[3m\u001b[90m<chr>\u001b[39m\u001b[23m \"Southport Ave & Waveland Ave\", \"Dorchester Ave & 4…\n",
      "$ end_station_id     \u001b[3m\u001b[90m<chr>\u001b[39m\u001b[23m \"13235\", \"KA1503000069\", \"20121\", \"13235\", \"20121\",…\n",
      "$ start_lat          \u001b[3m\u001b[90m<dbl>\u001b[39m\u001b[23m 41.89745, 41.80577, 41.74149, 41.90312, 41.74149, 4…\n",
      "$ start_lng          \u001b[3m\u001b[90m<dbl>\u001b[39m\u001b[23m -87.62872, -87.59246, -87.65841, -87.67394, -87.658…\n",
      "$ end_lat            \u001b[3m\u001b[90m<dbl>\u001b[39m\u001b[23m 41.94815, 41.80577, 41.74149, 41.94815, 41.74149, 4…\n",
      "$ end_lng            \u001b[3m\u001b[90m<dbl>\u001b[39m\u001b[23m -87.66394, -87.59246, -87.65841, -87.66394, -87.658…\n",
      "$ member_casual      \u001b[3m\u001b[90m<chr>\u001b[39m\u001b[23m \"member\", \"casual\", \"casual\", \"member\", \"casual\", \"…\n",
      "Rows: 531,633\n",
      "Columns: 13\n",
      "$ ride_id            \u001b[3m\u001b[90m<chr>\u001b[39m\u001b[23m \"C809ED75D6160B2A\", \"DD59FDCE0ACACAF3\", \"0AB83CB88C…\n",
      "$ rideable_type      \u001b[3m\u001b[90m<chr>\u001b[39m\u001b[23m \"electric_bike\", \"electric_bike\", \"electric_bike\", …\n",
      "$ started_at         \u001b[3m\u001b[90m<dttm>\u001b[39m\u001b[23m 2021-05-30 11:58:15, 2021-05-30 11:29:14, 2021-05-…\n",
      "$ ended_at           \u001b[3m\u001b[90m<dttm>\u001b[39m\u001b[23m 2021-05-30 12:10:39, 2021-05-30 12:14:09, 2021-05-…\n",
      "$ start_station_name \u001b[3m\u001b[90m<chr>\u001b[39m\u001b[23m NA, NA, NA, NA, NA, NA, NA, NA, NA, NA, NA, NA, NA,…\n",
      "$ start_station_id   \u001b[3m\u001b[90m<chr>\u001b[39m\u001b[23m NA, NA, NA, NA, NA, NA, NA, NA, NA, NA, NA, NA, NA,…\n",
      "$ end_station_name   \u001b[3m\u001b[90m<chr>\u001b[39m\u001b[23m NA, NA, NA, NA, NA, NA, NA, NA, NA, NA, NA, NA, NA,…\n",
      "$ end_station_id     \u001b[3m\u001b[90m<chr>\u001b[39m\u001b[23m NA, NA, NA, NA, NA, NA, NA, NA, NA, NA, NA, NA, NA,…\n",
      "$ start_lat          \u001b[3m\u001b[90m<dbl>\u001b[39m\u001b[23m 41.90000, 41.88000, 41.92000, 41.92000, 41.94000, 4…\n",
      "$ start_lng          \u001b[3m\u001b[90m<dbl>\u001b[39m\u001b[23m -87.63000, -87.62000, -87.70000, -87.70000, -87.690…\n",
      "$ end_lat            \u001b[3m\u001b[90m<dbl>\u001b[39m\u001b[23m 41.89000, 41.79000, 41.92000, 41.94000, 41.94000, 4…\n",
      "$ end_lng            \u001b[3m\u001b[90m<dbl>\u001b[39m\u001b[23m -87.61000, -87.58000, -87.70000, -87.69000, -87.700…\n",
      "$ member_casual      \u001b[3m\u001b[90m<chr>\u001b[39m\u001b[23m \"casual\", \"casual\", \"casual\", \"casual\", \"casual\", \"…\n",
      "Rows: 729,595\n",
      "Columns: 13\n",
      "$ ride_id            \u001b[3m\u001b[90m<chr>\u001b[39m\u001b[23m \"99FEC93BA843FB20\", \"06048DCFC8520CAF\", \"9598066F68…\n",
      "$ rideable_type      \u001b[3m\u001b[90m<chr>\u001b[39m\u001b[23m \"electric_bike\", \"electric_bike\", \"electric_bike\", …\n",
      "$ started_at         \u001b[3m\u001b[90m<dttm>\u001b[39m\u001b[23m 2021-06-13 14:31:28, 2021-06-04 11:18:02, 2021-06-…\n",
      "$ ended_at           \u001b[3m\u001b[90m<dttm>\u001b[39m\u001b[23m 2021-06-13 14:34:11, 2021-06-04 11:24:19, 2021-06-…\n",
      "$ start_station_name \u001b[3m\u001b[90m<chr>\u001b[39m\u001b[23m NA, NA, NA, NA, NA, NA, NA, NA, NA, NA, NA, NA, NA,…\n",
      "$ start_station_id   \u001b[3m\u001b[90m<chr>\u001b[39m\u001b[23m NA, NA, NA, NA, NA, NA, NA, NA, NA, NA, NA, NA, NA,…\n",
      "$ end_station_name   \u001b[3m\u001b[90m<chr>\u001b[39m\u001b[23m NA, NA, NA, NA, NA, NA, NA, NA, NA, \"Michigan Ave &…\n",
      "$ end_station_id     \u001b[3m\u001b[90m<chr>\u001b[39m\u001b[23m NA, NA, NA, NA, NA, NA, NA, NA, NA, \"13042\", NA, NA…\n",
      "$ start_lat          \u001b[3m\u001b[90m<dbl>\u001b[39m\u001b[23m 41.80, 41.79, 41.80, 41.78, 41.80, 41.78, 41.79, 41…\n",
      "$ start_lng          \u001b[3m\u001b[90m<dbl>\u001b[39m\u001b[23m -87.59, -87.59, -87.60, -87.58, -87.59, -87.58, -87…\n",
      "$ end_lat            \u001b[3m\u001b[90m<dbl>\u001b[39m\u001b[23m 41.80000, 41.80000, 41.79000, 41.80000, 41.79000, 4…\n",
      "$ end_lng            \u001b[3m\u001b[90m<dbl>\u001b[39m\u001b[23m -87.6000, -87.6000, -87.5900, -87.6000, -87.5900, -…\n",
      "$ member_casual      \u001b[3m\u001b[90m<chr>\u001b[39m\u001b[23m \"member\", \"member\", \"member\", \"member\", \"member\", \"…\n",
      "Rows: 822,410\n",
      "Columns: 13\n",
      "$ ride_id            \u001b[3m\u001b[90m<chr>\u001b[39m\u001b[23m \"0A1B623926EF4E16\", \"B2D5583A5A5E76EE\", \"6F264597DD…\n",
      "$ rideable_type      \u001b[3m\u001b[90m<chr>\u001b[39m\u001b[23m \"docked_bike\", \"classic_bike\", \"classic_bike\", \"cla…\n",
      "$ started_at         \u001b[3m\u001b[90m<dttm>\u001b[39m\u001b[23m 2021-07-02 14:44:36, 2021-07-07 16:57:42, 2021-07-…\n",
      "$ ended_at           \u001b[3m\u001b[90m<dttm>\u001b[39m\u001b[23m 2021-07-02 15:19:58, 2021-07-07 17:16:09, 2021-07-…\n",
      "$ start_station_name \u001b[3m\u001b[90m<chr>\u001b[39m\u001b[23m \"Michigan Ave & Washington St\", \"California Ave & C…\n",
      "$ start_station_id   \u001b[3m\u001b[90m<chr>\u001b[39m\u001b[23m \"13001\", \"17660\", \"SL-012\", \"17660\", \"17660\", \"1766…\n",
      "$ end_station_name   \u001b[3m\u001b[90m<chr>\u001b[39m\u001b[23m \"Halsted St & North Branch St\", \"Wood St & Hubbard …\n",
      "$ end_station_id     \u001b[3m\u001b[90m<chr>\u001b[39m\u001b[23m \"KA1504000117\", \"13432\", \"KA1503000044\", \"13196\", \"…\n",
      "$ start_lat          \u001b[3m\u001b[90m<dbl>\u001b[39m\u001b[23m 41.88398, 41.90036, 41.86038, 41.90036, 41.90035, 4…\n",
      "$ start_lng          \u001b[3m\u001b[90m<dbl>\u001b[39m\u001b[23m -87.62468, -87.69670, -87.62581, -87.69670, -87.696…\n",
      "$ end_lat            \u001b[3m\u001b[90m<dbl>\u001b[39m\u001b[23m 41.89937, 41.88990, 41.89017, 41.89456, 41.88659, 4…\n",
      "$ end_lng            \u001b[3m\u001b[90m<dbl>\u001b[39m\u001b[23m -87.64848, -87.67147, -87.62619, -87.65345, -87.658…\n",
      "$ member_casual      \u001b[3m\u001b[90m<chr>\u001b[39m\u001b[23m \"casual\", \"casual\", \"member\", \"member\", \"casual\", \"…\n",
      "Rows: 804,352\n",
      "Columns: 13\n",
      "$ ride_id            \u001b[3m\u001b[90m<chr>\u001b[39m\u001b[23m \"99103BB87CC6C1BB\", \"EAFCCCFB0A3FC5A1\", \"9EF4F46C57…\n",
      "$ rideable_type      \u001b[3m\u001b[90m<chr>\u001b[39m\u001b[23m \"electric_bike\", \"electric_bike\", \"electric_bike\", …\n",
      "$ started_at         \u001b[3m\u001b[90m<dttm>\u001b[39m\u001b[23m 2021-08-10 17:15:49, 2021-08-10 17:23:14, 2021-08-…\n",
      "$ ended_at           \u001b[3m\u001b[90m<dttm>\u001b[39m\u001b[23m 2021-08-10 17:22:44, 2021-08-10 17:39:24, 2021-08-…\n",
      "$ start_station_name \u001b[3m\u001b[90m<chr>\u001b[39m\u001b[23m NA, NA, NA, NA, NA, NA, NA, NA, NA, NA, NA, NA, NA,…\n",
      "$ start_station_id   \u001b[3m\u001b[90m<chr>\u001b[39m\u001b[23m NA, NA, NA, NA, NA, NA, NA, NA, NA, NA, NA, NA, NA,…\n",
      "$ end_station_name   \u001b[3m\u001b[90m<chr>\u001b[39m\u001b[23m NA, NA, NA, NA, NA, NA, NA, \"Clark St & Grace St\", …\n",
      "$ end_station_id     \u001b[3m\u001b[90m<chr>\u001b[39m\u001b[23m NA, NA, NA, NA, NA, NA, NA, \"TA1307000127\", NA, NA,…\n",
      "$ start_lat          \u001b[3m\u001b[90m<dbl>\u001b[39m\u001b[23m 41.77000, 41.77000, 41.95000, 41.97000, 41.79000, 4…\n",
      "$ start_lng          \u001b[3m\u001b[90m<dbl>\u001b[39m\u001b[23m -87.68000, -87.68000, -87.65000, -87.67000, -87.600…\n",
      "$ end_lat            \u001b[3m\u001b[90m<dbl>\u001b[39m\u001b[23m 41.77000, 41.77000, 41.97000, 41.95000, 41.77000, 4…\n",
      "$ end_lng            \u001b[3m\u001b[90m<dbl>\u001b[39m\u001b[23m -87.68000, -87.63000, -87.66000, -87.65000, -87.620…\n",
      "$ member_casual      \u001b[3m\u001b[90m<chr>\u001b[39m\u001b[23m \"member\", \"member\", \"member\", \"member\", \"member\", \"…\n",
      "Rows: 756,147\n",
      "Columns: 13\n",
      "$ ride_id            \u001b[3m\u001b[90m<chr>\u001b[39m\u001b[23m \"9DC7B962304CBFD8\", \"F930E2C6872D6B32\", \"6EF7213790…\n",
      "$ rideable_type      \u001b[3m\u001b[90m<chr>\u001b[39m\u001b[23m \"electric_bike\", \"electric_bike\", \"electric_bike\", …\n",
      "$ started_at         \u001b[3m\u001b[90m<dttm>\u001b[39m\u001b[23m 2021-09-28 16:07:10, 2021-09-28 14:24:51, 2021-09-…\n",
      "$ ended_at           \u001b[3m\u001b[90m<dttm>\u001b[39m\u001b[23m 2021-09-28 16:09:54, 2021-09-28 14:40:05, 2021-09-…\n",
      "$ start_station_name \u001b[3m\u001b[90m<chr>\u001b[39m\u001b[23m NA, NA, NA, NA, NA, NA, NA, NA, NA, NA, \"Clark St &…\n",
      "$ start_station_id   \u001b[3m\u001b[90m<chr>\u001b[39m\u001b[23m NA, NA, NA, NA, NA, NA, NA, NA, NA, NA, \"TA13070001…\n",
      "$ end_station_name   \u001b[3m\u001b[90m<chr>\u001b[39m\u001b[23m NA, NA, NA, NA, NA, NA, NA, NA, NA, NA, NA, NA, NA,…\n",
      "$ end_station_id     \u001b[3m\u001b[90m<chr>\u001b[39m\u001b[23m NA, NA, NA, NA, NA, NA, NA, NA, NA, NA, NA, NA, NA,…\n",
      "$ start_lat          \u001b[3m\u001b[90m<dbl>\u001b[39m\u001b[23m 41.89000, 41.94000, 41.81000, 41.80000, 41.88000, 4…\n",
      "$ start_lng          \u001b[3m\u001b[90m<dbl>\u001b[39m\u001b[23m -87.68000, -87.64000, -87.72000, -87.72000, -87.740…\n",
      "$ end_lat            \u001b[3m\u001b[90m<dbl>\u001b[39m\u001b[23m 41.89, 41.98, 41.80, 41.81, 41.88, 41.88, 41.74, 41…\n",
      "$ end_lng            \u001b[3m\u001b[90m<dbl>\u001b[39m\u001b[23m -87.67, -87.67, -87.72, -87.72, -87.71, -87.74, -87…\n",
      "$ member_casual      \u001b[3m\u001b[90m<chr>\u001b[39m\u001b[23m \"casual\", \"casual\", \"casual\", \"casual\", \"casual\", \"…\n",
      "Rows: 631,226\n",
      "Columns: 13\n",
      "$ ride_id            \u001b[3m\u001b[90m<chr>\u001b[39m\u001b[23m \"620BC6107255BF4C\", \"4471C70731AB2E45\", \"26CA69D43D…\n",
      "$ rideable_type      \u001b[3m\u001b[90m<chr>\u001b[39m\u001b[23m \"electric_bike\", \"electric_bike\", \"electric_bike\", …\n",
      "$ started_at         \u001b[3m\u001b[90m<dttm>\u001b[39m\u001b[23m 2021-10-22 12:46:42, 2021-10-21 09:12:37, 2021-10-…\n",
      "$ ended_at           \u001b[3m\u001b[90m<dttm>\u001b[39m\u001b[23m 2021-10-22 12:49:50, 2021-10-21 09:14:14, 2021-10-…\n",
      "$ start_station_name \u001b[3m\u001b[90m<chr>\u001b[39m\u001b[23m \"Kingsbury St & Kinzie St\", NA, NA, NA, NA, NA, NA,…\n",
      "$ start_station_id   \u001b[3m\u001b[90m<chr>\u001b[39m\u001b[23m \"KA1503000043\", NA, NA, NA, NA, NA, NA, NA, NA, NA,…\n",
      "$ end_station_name   \u001b[3m\u001b[90m<chr>\u001b[39m\u001b[23m NA, NA, NA, NA, NA, NA, NA, NA, NA, NA, NA, NA, NA,…\n",
      "$ end_station_id     \u001b[3m\u001b[90m<chr>\u001b[39m\u001b[23m NA, NA, NA, NA, NA, NA, NA, NA, NA, NA, NA, NA, NA,…\n",
      "$ start_lat          \u001b[3m\u001b[90m<dbl>\u001b[39m\u001b[23m 41.88919, 41.93000, 41.92000, 41.92000, 41.89000, 4…\n",
      "$ start_lng          \u001b[3m\u001b[90m<dbl>\u001b[39m\u001b[23m -87.63850, -87.70000, -87.70000, -87.69000, -87.710…\n",
      "$ end_lat            \u001b[3m\u001b[90m<dbl>\u001b[39m\u001b[23m 41.89000, 41.93000, 41.94000, 41.92000, 41.89000, 4…\n",
      "$ end_lng            \u001b[3m\u001b[90m<dbl>\u001b[39m\u001b[23m -87.63000, -87.71000, -87.72000, -87.69000, -87.690…\n",
      "$ member_casual      \u001b[3m\u001b[90m<chr>\u001b[39m\u001b[23m \"member\", \"member\", \"member\", \"member\", \"member\", \"…\n",
      "Rows: 359,978\n",
      "Columns: 13\n",
      "$ ride_id            \u001b[3m\u001b[90m<chr>\u001b[39m\u001b[23m \"7C00A93E10556E47\", \"90854840DFD508BA\", \"0A7D10CDD1…\n",
      "$ rideable_type      \u001b[3m\u001b[90m<chr>\u001b[39m\u001b[23m \"electric_bike\", \"electric_bike\", \"electric_bike\", …\n",
      "$ started_at         \u001b[3m\u001b[90m<dttm>\u001b[39m\u001b[23m 2021-11-27 13:27:38, 2021-11-27 13:38:25, 2021-11-…\n",
      "$ ended_at           \u001b[3m\u001b[90m<dttm>\u001b[39m\u001b[23m 2021-11-27 13:46:38, 2021-11-27 13:56:10, 2021-11-…\n",
      "$ start_station_name \u001b[3m\u001b[90m<chr>\u001b[39m\u001b[23m NA, NA, NA, NA, NA, \"Michigan Ave & Oak St\", NA, NA…\n",
      "$ start_station_id   \u001b[3m\u001b[90m<chr>\u001b[39m\u001b[23m NA, NA, NA, NA, NA, \"13042\", NA, NA, NA, NA, NA, NA…\n",
      "$ end_station_name   \u001b[3m\u001b[90m<chr>\u001b[39m\u001b[23m NA, NA, NA, NA, NA, NA, NA, NA, NA, NA, NA, NA, NA,…\n",
      "$ end_station_id     \u001b[3m\u001b[90m<chr>\u001b[39m\u001b[23m NA, NA, NA, NA, NA, NA, NA, NA, NA, NA, NA, NA, NA,…\n",
      "$ start_lat          \u001b[3m\u001b[90m<dbl>\u001b[39m\u001b[23m 41.93000, 41.96000, 41.96000, 41.94000, 41.90000, 4…\n",
      "$ start_lng          \u001b[3m\u001b[90m<dbl>\u001b[39m\u001b[23m -87.72000, -87.70000, -87.70000, -87.79000, -87.630…\n",
      "$ end_lat            \u001b[3m\u001b[90m<dbl>\u001b[39m\u001b[23m 41.96, 41.92, 41.96, 41.93, 41.88, 41.90, 41.80, 41…\n",
      "$ end_lng            \u001b[3m\u001b[90m<dbl>\u001b[39m\u001b[23m -87.73, -87.70, -87.70, -87.79, -87.62, -87.63, -87…\n",
      "$ member_casual      \u001b[3m\u001b[90m<chr>\u001b[39m\u001b[23m \"casual\", \"casual\", \"casual\", \"casual\", \"casual\", \"…\n",
      "Rows: 247,540\n",
      "Columns: 13\n",
      "$ ride_id            \u001b[3m\u001b[90m<chr>\u001b[39m\u001b[23m \"46F8167220E4431F\", \"73A77762838B32FD\", \"4CF4245205…\n",
      "$ rideable_type      \u001b[3m\u001b[90m<chr>\u001b[39m\u001b[23m \"electric_bike\", \"electric_bike\", \"electric_bike\", …\n",
      "$ started_at         \u001b[3m\u001b[90m<dttm>\u001b[39m\u001b[23m 2021-12-07 15:06:07, 2021-12-11 03:43:29, 2021-12-…\n",
      "$ ended_at           \u001b[3m\u001b[90m<dttm>\u001b[39m\u001b[23m 2021-12-07 15:13:42, 2021-12-11 04:10:23, 2021-12-…\n",
      "$ start_station_name \u001b[3m\u001b[90m<chr>\u001b[39m\u001b[23m \"Laflin St & Cullerton St\", \"LaSalle Dr & Huron St\"…\n",
      "$ start_station_id   \u001b[3m\u001b[90m<chr>\u001b[39m\u001b[23m \"13307\", \"KP1705001026\", \"KA1504000117\", \"KA1504000…\n",
      "$ end_station_name   \u001b[3m\u001b[90m<chr>\u001b[39m\u001b[23m \"Morgan St & Polk St\", \"Clarendon Ave & Leland Ave\"…\n",
      "$ end_station_id     \u001b[3m\u001b[90m<chr>\u001b[39m\u001b[23m \"TA1307000130\", \"TA1307000119\", \"13137\", \"KP1705001…\n",
      "$ start_lat          \u001b[3m\u001b[90m<dbl>\u001b[39m\u001b[23m 41.85483, 41.89441, 41.89936, 41.89939, 41.89558, 4…\n",
      "$ start_lng          \u001b[3m\u001b[90m<dbl>\u001b[39m\u001b[23m -87.66366, -87.63233, -87.64852, -87.64854, -87.682…\n",
      "$ end_lat            \u001b[3m\u001b[90m<dbl>\u001b[39m\u001b[23m 41.87197, 41.96797, 41.93758, 41.89488, 41.93125, 4…\n",
      "$ end_lng            \u001b[3m\u001b[90m<dbl>\u001b[39m\u001b[23m -87.65097, -87.65000, -87.64410, -87.63233, -87.644…\n",
      "$ member_casual      \u001b[3m\u001b[90m<chr>\u001b[39m\u001b[23m \"member\", \"casual\", \"member\", \"member\", \"member\", \"…\n"
     ]
    }
   ],
   "source": [
    "X01_2021_divvy_tripdata <- read_csv(\"../input/cylistic-dataset-from-jan-2021-to-dec-2021/csv files/01_2021_divvy_tripdata.csv\", show_col_types = F)\n",
    "X02_2021_divvy_tripdata <- read_csv(\"../input/cylistic-dataset-from-jan-2021-to-dec-2021/csv files/02_2021_divvy_tripdata.csv\", show_col_types = F)\n",
    " X03_2021_divvy_tripdata <- read_csv(\"../input/cylistic-dataset-from-jan-2021-to-dec-2021/csv files/03_2021_divvy_tripdata.csv\", show_col_types = F)\n",
    " X04_2021_divvy_tripdata <- read_csv(\"../input/cylistic-dataset-from-jan-2021-to-dec-2021/csv files/04_2021_divvy_tripdata.csv\", show_col_types = F)\n",
    "X05_2021_divvy_tripdata <- read_csv(\"../input/cylistic-dataset-from-jan-2021-to-dec-2021/csv files/05_2021_divvy_tripdata.csv\", show_col_types = F)\n",
    "X06_2021_divvy_tripdata <- read_csv(\"../input/cylistic-dataset-from-jan-2021-to-dec-2021/csv files/06_2021_divvy_tripdata.csv\", show_col_types = F)\n",
    "X07_2021_divvy_tripdata <- read_csv(\"../input/cylistic-dataset-from-jan-2021-to-dec-2021/csv files/07_2021_divvy_tripdata.csv\", show_col_types = F)\n",
    "X08_2021_divvy_tripdata <- read_csv(\"../input/cylistic-dataset-from-jan-2021-to-dec-2021/csv files/08_2021_divvy_tripdata.csv\", show_col_types = F)\n",
    "X09_2021_divvy_tripdata <- read_csv(\"../input/cylistic-dataset-from-jan-2021-to-dec-2021/csv files/09_2021_divvy_tripdata.csv\", show_col_types = F)\n",
    " X10_2021_divvy_tripdata <- read_csv(\"../input/cylistic-dataset-from-jan-2021-to-dec-2021/csv files/10_2021_divvy_tripdata.csv\", show_col_types = F)\n",
    "X11_2021_divvy_tripdata <- read_csv(\"../input/cylistic-dataset-from-jan-2021-to-dec-2021/csv files/11_2021_divvy_tripdata.csv\", show_col_types = F)\n",
    "X12_2021_divvy_tripdata <- read_csv(\"../input/cylistic-dataset-from-jan-2021-to-dec-2021/csv files/12_2021_divvy_tripdata.csv\", show_col_types = F)\n",
    "\n",
    "\n",
    "#view datset\n",
    "glimpse(X01_2021_divvy_tripdata)\n",
    "\n",
    "glimpse(X02_2021_divvy_tripdata)\n",
    "\n",
    "glimpse(X03_2021_divvy_tripdata)\n",
    "\n",
    "glimpse(X04_2021_divvy_tripdata)\n",
    "\n",
    "glimpse(X05_2021_divvy_tripdata)\n",
    "\n",
    "glimpse(X06_2021_divvy_tripdata)\n",
    "\n",
    "glimpse(X07_2021_divvy_tripdata)\n",
    "\n",
    "glimpse(X08_2021_divvy_tripdata)\n",
    "\n",
    "glimpse(X09_2021_divvy_tripdata)\n",
    "\n",
    "glimpse(X10_2021_divvy_tripdata)\n",
    "\n",
    "glimpse(X11_2021_divvy_tripdata)\n",
    "\n",
    "glimpse(X12_2021_divvy_tripdata)"
   ]
  },
  {
   "cell_type": "markdown",
   "id": "30f1576e",
   "metadata": {
    "papermill": {
     "duration": 0.007482,
     "end_time": "2022-11-16T16:07:31.334160",
     "exception": false,
     "start_time": "2022-11-16T16:07:31.326678",
     "status": "completed"
    },
    "tags": []
   },
   "source": [
    "Lets merge the twelve datasets into a single dataset"
   ]
  },
  {
   "cell_type": "code",
   "execution_count": 3,
   "id": "dd648c3d",
   "metadata": {
    "execution": {
     "iopub.execute_input": "2022-11-16T16:07:31.353417Z",
     "iopub.status.busy": "2022-11-16T16:07:31.351292Z",
     "iopub.status.idle": "2022-11-16T16:07:37.661369Z",
     "shell.execute_reply": "2022-11-16T16:07:37.659328Z"
    },
    "papermill": {
     "duration": 6.322479,
     "end_time": "2022-11-16T16:07:37.664186",
     "exception": false,
     "start_time": "2022-11-16T16:07:31.341707",
     "status": "completed"
    },
    "tags": []
   },
   "outputs": [
    {
     "name": "stdout",
     "output_type": "stream",
     "text": [
      "Rows: 5,595,063\n",
      "Columns: 13\n",
      "$ ride_id            \u001b[3m\u001b[90m<chr>\u001b[39m\u001b[23m \"E19E6F1B8D4C42ED\", \"DC88F20C2C55F27F\", \"EC45C94683…\n",
      "$ rideable_type      \u001b[3m\u001b[90m<chr>\u001b[39m\u001b[23m \"electric_bike\", \"electric_bike\", \"electric_bike\", …\n",
      "$ started_at         \u001b[3m\u001b[90m<dttm>\u001b[39m\u001b[23m 2021-01-23 16:14:19, 2021-01-27 18:43:08, 2021-01-…\n",
      "$ ended_at           \u001b[3m\u001b[90m<dttm>\u001b[39m\u001b[23m 2021-01-23 16:24:44, 2021-01-27 18:47:12, 2021-01-…\n",
      "$ start_station_name \u001b[3m\u001b[90m<chr>\u001b[39m\u001b[23m \"California Ave & Cortez St\", \"California Ave & Cor…\n",
      "$ start_station_id   \u001b[3m\u001b[90m<chr>\u001b[39m\u001b[23m \"17660\", \"17660\", \"17660\", \"17660\", \"17660\", \"17660…\n",
      "$ end_station_name   \u001b[3m\u001b[90m<chr>\u001b[39m\u001b[23m NA, NA, NA, NA, NA, NA, NA, NA, NA, \"Wood St & Augu…\n",
      "$ end_station_id     \u001b[3m\u001b[90m<chr>\u001b[39m\u001b[23m NA, NA, NA, NA, NA, NA, NA, NA, NA, \"657\", \"13258\",…\n",
      "$ start_lat          \u001b[3m\u001b[90m<dbl>\u001b[39m\u001b[23m 41.90034, 41.90033, 41.90031, 41.90040, 41.90033, 4…\n",
      "$ start_lng          \u001b[3m\u001b[90m<dbl>\u001b[39m\u001b[23m -87.69674, -87.69671, -87.69664, -87.69666, -87.696…\n",
      "$ end_lat            \u001b[3m\u001b[90m<dbl>\u001b[39m\u001b[23m 41.89000, 41.90000, 41.90000, 41.92000, 41.90000, 4…\n",
      "$ end_lng            \u001b[3m\u001b[90m<dbl>\u001b[39m\u001b[23m -87.72000, -87.69000, -87.70000, -87.69000, -87.700…\n",
      "$ member_casual      \u001b[3m\u001b[90m<chr>\u001b[39m\u001b[23m \"member\", \"member\", \"member\", \"member\", \"casual\", \"…\n"
     ]
    }
   ],
   "source": [
    "\n",
    "\n",
    "trip_data <- bind_rows(X01_2021_divvy_tripdata, X02_2021_divvy_tripdata, X03_2021_divvy_tripdata, X04_2021_divvy_tripdata, X05_2021_divvy_tripdata, X06_2021_divvy_tripdata, X07_2021_divvy_tripdata, X08_2021_divvy_tripdata, X09_2021_divvy_tripdata, X10_2021_divvy_tripdata, X11_2021_divvy_tripdata, X12_2021_divvy_tripdata)\n",
    "\n",
    "\n",
    "glimpse(trip_data)"
   ]
  },
  {
   "cell_type": "markdown",
   "id": "d38777e4",
   "metadata": {
    "papermill": {
     "duration": 0.007808,
     "end_time": "2022-11-16T16:07:37.680411",
     "exception": false,
     "start_time": "2022-11-16T16:07:37.672603",
     "status": "completed"
    },
    "tags": []
   },
   "source": [
    "The end_station_id and start_station_id are in the wrong data format. They both need to be formatted to their appropriate format which is 'dbl'"
   ]
  },
  {
   "cell_type": "code",
   "execution_count": 4,
   "id": "7e997d0e",
   "metadata": {
    "execution": {
     "iopub.execute_input": "2022-11-16T16:07:37.700403Z",
     "iopub.status.busy": "2022-11-16T16:07:37.698791Z",
     "iopub.status.idle": "2022-11-16T16:07:42.353460Z",
     "shell.execute_reply": "2022-11-16T16:07:42.351334Z"
    },
    "papermill": {
     "duration": 4.668322,
     "end_time": "2022-11-16T16:07:42.357374",
     "exception": false,
     "start_time": "2022-11-16T16:07:37.689052",
     "status": "completed"
    },
    "tags": []
   },
   "outputs": [
    {
     "name": "stderr",
     "output_type": "stream",
     "text": [
      "Warning message in mask$eval_all_mutate(quo):\n",
      "“NAs introduced by coercion”\n",
      "Warning message in mask$eval_all_mutate(quo):\n",
      "“NAs introduced by coercion”\n"
     ]
    },
    {
     "name": "stdout",
     "output_type": "stream",
     "text": [
      "Rows: 5,595,063\n",
      "Columns: 9\n",
      "$ ride_id            \u001b[3m\u001b[90m<chr>\u001b[39m\u001b[23m \"E19E6F1B8D4C42ED\", \"DC88F20C2C55F27F\", \"EC45C94683…\n",
      "$ rideable_type      \u001b[3m\u001b[90m<chr>\u001b[39m\u001b[23m \"electric_bike\", \"electric_bike\", \"electric_bike\", …\n",
      "$ started_at         \u001b[3m\u001b[90m<dttm>\u001b[39m\u001b[23m 2021-01-23 16:14:19, 2021-01-27 18:43:08, 2021-01-…\n",
      "$ ended_at           \u001b[3m\u001b[90m<dttm>\u001b[39m\u001b[23m 2021-01-23 16:24:44, 2021-01-27 18:47:12, 2021-01-…\n",
      "$ start_station_name \u001b[3m\u001b[90m<chr>\u001b[39m\u001b[23m \"California Ave & Cortez St\", \"California Ave & Cor…\n",
      "$ start_station_id   \u001b[3m\u001b[90m<dbl>\u001b[39m\u001b[23m 17660, 17660, 17660, 17660, 17660, 17660, 17660, 17…\n",
      "$ end_station_name   \u001b[3m\u001b[90m<chr>\u001b[39m\u001b[23m NA, NA, NA, NA, NA, NA, NA, NA, NA, \"Wood St & Augu…\n",
      "$ end_station_id     \u001b[3m\u001b[90m<dbl>\u001b[39m\u001b[23m NA, NA, NA, NA, NA, NA, NA, NA, NA, 657, 13258, 657…\n",
      "$ member_casual      \u001b[3m\u001b[90m<chr>\u001b[39m\u001b[23m \"member\", \"member\", \"member\", \"member\", \"casual\", \"…\n"
     ]
    }
   ],
   "source": [
    "trip_data <- mutate(trip_data, start_station_id = as.double(start_station_id), \n",
    "  end_station_id = as.double(end_station_id)) \n",
    "\n",
    "\n",
    "\n",
    "## There are some columns that are not applicable to this current project and they need to be removed to decongest space.\n",
    "\n",
    "trip_data <- subset (trip_data, select = -c(start_lat, start_lng, end_lat, end_lng))\n",
    "\n",
    "\n",
    "#check the dataset\n",
    "glimpse(trip_data, show_col_types = F)"
   ]
  },
  {
   "cell_type": "markdown",
   "id": "6b7d3339",
   "metadata": {
    "papermill": {
     "duration": 0.007982,
     "end_time": "2022-11-16T16:07:42.373460",
     "exception": false,
     "start_time": "2022-11-16T16:07:42.365478",
     "status": "completed"
    },
    "tags": []
   },
   "source": [
    "There is need to add a new column 'ride_length' to calculate the total duration of each trip by  subtracting 'started_at' from 'ended_at'. And also a 'weekday' column to show what day of the week the ride took place.\n",
    "But first i need to rename some columns for easy identification. "
   ]
  },
  {
   "cell_type": "code",
   "execution_count": 5,
   "id": "b6ca1b0f",
   "metadata": {
    "execution": {
     "iopub.execute_input": "2022-11-16T16:07:42.392477Z",
     "iopub.status.busy": "2022-11-16T16:07:42.390914Z",
     "iopub.status.idle": "2022-11-16T16:07:49.707406Z",
     "shell.execute_reply": "2022-11-16T16:07:49.705279Z"
    },
    "papermill": {
     "duration": 7.329404,
     "end_time": "2022-11-16T16:07:49.710568",
     "exception": false,
     "start_time": "2022-11-16T16:07:42.381164",
     "status": "completed"
    },
    "tags": []
   },
   "outputs": [
    {
     "name": "stdout",
     "output_type": "stream",
     "text": [
      "Rows: 5,595,063\n",
      "Columns: 12\n",
      "$ ride_id            \u001b[3m\u001b[90m<chr>\u001b[39m\u001b[23m \"E19E6F1B8D4C42ED\", \"DC88F20C2C55F27F\", \"EC45C94683…\n",
      "$ ride_type          \u001b[3m\u001b[90m<chr>\u001b[39m\u001b[23m \"electric_bike\", \"electric_bike\", \"electric_bike\", …\n",
      "$ started_at         \u001b[3m\u001b[90m<dttm>\u001b[39m\u001b[23m 2021-01-23 16:14:19, 2021-01-27 18:43:08, 2021-01-…\n",
      "$ ended_at           \u001b[3m\u001b[90m<dttm>\u001b[39m\u001b[23m 2021-01-23 16:24:44, 2021-01-27 18:47:12, 2021-01-…\n",
      "$ start_station_name \u001b[3m\u001b[90m<chr>\u001b[39m\u001b[23m \"California Ave & Cortez St\", \"California Ave & Cor…\n",
      "$ start_station_id   \u001b[3m\u001b[90m<dbl>\u001b[39m\u001b[23m 17660, 17660, 17660, 17660, 17660, 17660, 17660, 17…\n",
      "$ end_station_name   \u001b[3m\u001b[90m<chr>\u001b[39m\u001b[23m NA, NA, NA, NA, NA, NA, NA, NA, NA, \"Wood St & Augu…\n",
      "$ end_station_id     \u001b[3m\u001b[90m<dbl>\u001b[39m\u001b[23m NA, NA, NA, NA, NA, NA, NA, NA, NA, 657, 13258, 657…\n",
      "$ member_type        \u001b[3m\u001b[90m<chr>\u001b[39m\u001b[23m \"member\", \"member\", \"member\", \"member\", \"casual\", \"…\n",
      "$ weekdays           \u001b[3m\u001b[90m<chr>\u001b[39m\u001b[23m \"Saturday\", \"Wednesday\", \"Thursday\", \"Thursday\", \"S…\n",
      "$ months             \u001b[3m\u001b[90m<chr>\u001b[39m\u001b[23m \"Jan_21\", \"Jan_21\", \"Jan_21\", \"Jan_21\", \"Jan_21\", \"…\n",
      "$ trip_length_mins   \u001b[3m\u001b[90m<dbl>\u001b[39m\u001b[23m 10.4166667, 4.0666667, 1.3333333, 11.7000000, 0.716…\n"
     ]
    }
   ],
   "source": [
    "#Renaming columns\n",
    "trip_data <- trip_data%>%\n",
    "  rename(ride_type = rideable_type, member_type = member_casual,)\n",
    "\n",
    "\n",
    "#I need to create a new column named 'Weekdays'. This column will show what day of the week each ride was taken.\n",
    "\n",
    "trip_data$weekdays <- weekdays(trip_data$started_at)\n",
    "\n",
    "#Month in which the trips took place\n",
    "trip_data$months <- format(as.Date(trip_data$started_at),'%b_%y')\n",
    "\n",
    "#Trip length in minutes\n",
    "trip_data$trip_length_mins <- (as.double(difftime(trip_data$ended_at, trip_data$started_at)))/60\n",
    "\n",
    "glimpse(trip_data)"
   ]
  },
  {
   "cell_type": "markdown",
   "id": "dd4b4e70",
   "metadata": {
    "papermill": {
     "duration": 0.021725,
     "end_time": "2022-11-16T16:07:49.743957",
     "exception": false,
     "start_time": "2022-11-16T16:07:49.722232",
     "status": "completed"
    },
    "tags": []
   },
   "source": [
    "Lets try checking for some irregularities in the dataset again. For example, lets check if the \"trip_length\" as any negative values. A negative values will not be helpful in our analysis and it only means that data was keyed incorrectly."
   ]
  },
  {
   "cell_type": "code",
   "execution_count": 6,
   "id": "aced87e2",
   "metadata": {
    "execution": {
     "iopub.execute_input": "2022-11-16T16:07:49.770199Z",
     "iopub.status.busy": "2022-11-16T16:07:49.767607Z",
     "iopub.status.idle": "2022-11-16T16:07:50.562385Z",
     "shell.execute_reply": "2022-11-16T16:07:50.560203Z"
    },
    "papermill": {
     "duration": 0.808055,
     "end_time": "2022-11-16T16:07:50.565567",
     "exception": false,
     "start_time": "2022-11-16T16:07:49.757512",
     "status": "completed"
    },
    "tags": []
   },
   "outputs": [
    {
     "data": {
      "text/html": [
       "TRUE"
      ],
      "text/latex": [
       "TRUE"
      ],
      "text/markdown": [
       "TRUE"
      ],
      "text/plain": [
       "[1] TRUE"
      ]
     },
     "metadata": {},
     "output_type": "display_data"
    },
    {
     "data": {
      "text/html": [
       "147"
      ],
      "text/latex": [
       "147"
      ],
      "text/markdown": [
       "147"
      ],
      "text/plain": [
       "[1] 147"
      ]
     },
     "metadata": {},
     "output_type": "display_data"
    },
    {
     "data": {
      "text/plain": [
       "\n",
       " classic_bike   docked_bike electric_bike \n",
       "      3251028        312343       2031692 "
      ]
     },
     "metadata": {},
     "output_type": "display_data"
    },
    {
     "data": {
      "text/html": [
       "12"
      ],
      "text/latex": [
       "12"
      ],
      "text/markdown": [
       "12"
      ],
      "text/plain": [
       "[1] 12"
      ]
     },
     "metadata": {},
     "output_type": "display_data"
    }
   ],
   "source": [
    "any(trip_data$trip_length_mins == 0)\n",
    "\n",
    "#check how many 0 we have in the \"trip_length\" column.\n",
    "\n",
    "nrow(subset(trip_data,trip_length_mins < 0))\n",
    "\n",
    "#Check how many kind of bikes is being used. i.e lets check how many entries we have in the \"ride_type\" column.\n",
    "\n",
    "\n",
    "table(trip_data$ride_type)\n",
    "\n",
    "#Checking if the months are complete \n",
    "n_distinct(trip_data$months)"
   ]
  },
  {
   "cell_type": "markdown",
   "id": "3cab1560",
   "metadata": {
    "papermill": {
     "duration": 0.008473,
     "end_time": "2022-11-16T16:07:50.583353",
     "exception": false,
     "start_time": "2022-11-16T16:07:50.574880",
     "status": "completed"
    },
    "tags": []
   },
   "source": [
    "Seeing there are only 147 rows of **trip_length** less than **0**. we will have to delete they could influence our analysis negatively."
   ]
  },
  {
   "cell_type": "code",
   "execution_count": 7,
   "id": "6f22ab84",
   "metadata": {
    "execution": {
     "iopub.execute_input": "2022-11-16T16:07:50.603499Z",
     "iopub.status.busy": "2022-11-16T16:07:50.601941Z",
     "iopub.status.idle": "2022-11-16T16:07:51.837522Z",
     "shell.execute_reply": "2022-11-16T16:07:51.835689Z"
    },
    "papermill": {
     "duration": 1.248477,
     "end_time": "2022-11-16T16:07:51.840064",
     "exception": false,
     "start_time": "2022-11-16T16:07:50.591587",
     "status": "completed"
    },
    "tags": []
   },
   "outputs": [],
   "source": [
    "#Deleting cells with 0 or less than 0 trip_length\n",
    "trip_data <- trip_data[!(trip_data$trip_length_mins <= 0),]\n",
    "\n"
   ]
  },
  {
   "cell_type": "markdown",
   "id": "db6b9b17",
   "metadata": {
    "papermill": {
     "duration": 0.008482,
     "end_time": "2022-11-16T16:07:51.857292",
     "exception": false,
     "start_time": "2022-11-16T16:07:51.848810",
     "status": "completed"
    },
    "tags": []
   },
   "source": [
    "## Analyzing The Data and then Visualize\n",
    "\n",
    "I will be analyzing the data to see how how casual riders use cyclistic differently from members."
   ]
  },
  {
   "cell_type": "code",
   "execution_count": 8,
   "id": "44915f56",
   "metadata": {
    "execution": {
     "iopub.execute_input": "2022-11-16T16:07:51.879354Z",
     "iopub.status.busy": "2022-11-16T16:07:51.877554Z",
     "iopub.status.idle": "2022-11-16T16:07:52.294988Z",
     "shell.execute_reply": "2022-11-16T16:07:52.293260Z"
    },
    "papermill": {
     "duration": 0.430555,
     "end_time": "2022-11-16T16:07:52.297388",
     "exception": false,
     "start_time": "2022-11-16T16:07:51.866833",
     "status": "completed"
    },
    "tags": []
   },
   "outputs": [
    {
     "data": {
      "text/plain": [
       "    Min.  1st Qu.   Median     Mean  3rd Qu.     Max. \n",
       "    0.02     6.75    12.00    21.94    21.78 55944.15 "
      ]
     },
     "metadata": {},
     "output_type": "display_data"
    }
   ],
   "source": [
    "#summary of the trip_length\n",
    "summary (trip_data$trip_length_mins)"
   ]
  },
  {
   "cell_type": "code",
   "execution_count": 9,
   "id": "56f97a69",
   "metadata": {
    "execution": {
     "iopub.execute_input": "2022-11-16T16:07:52.317575Z",
     "iopub.status.busy": "2022-11-16T16:07:52.316018Z",
     "iopub.status.idle": "2022-11-16T16:07:52.933423Z",
     "shell.execute_reply": "2022-11-16T16:07:52.931729Z"
    },
    "papermill": {
     "duration": 0.630126,
     "end_time": "2022-11-16T16:07:52.935888",
     "exception": false,
     "start_time": "2022-11-16T16:07:52.305762",
     "status": "completed"
    },
    "tags": []
   },
   "outputs": [
    {
     "data": {
      "text/html": [
       "<table class=\"dataframe\">\n",
       "<caption>A tibble: 2 × 2</caption>\n",
       "<thead>\n",
       "\t<tr><th scope=col>member_type</th><th scope=col>Average_trip_length_mins</th></tr>\n",
       "\t<tr><th scope=col>&lt;chr&gt;</th><th scope=col>&lt;dbl&gt;</th></tr>\n",
       "</thead>\n",
       "<tbody>\n",
       "\t<tr><td>casual</td><td>32.00578</td></tr>\n",
       "\t<tr><td>member</td><td>13.63455</td></tr>\n",
       "</tbody>\n",
       "</table>\n"
      ],
      "text/latex": [
       "A tibble: 2 × 2\n",
       "\\begin{tabular}{ll}\n",
       " member\\_type & Average\\_trip\\_length\\_mins\\\\\n",
       " <chr> & <dbl>\\\\\n",
       "\\hline\n",
       "\t casual & 32.00578\\\\\n",
       "\t member & 13.63455\\\\\n",
       "\\end{tabular}\n"
      ],
      "text/markdown": [
       "\n",
       "A tibble: 2 × 2\n",
       "\n",
       "| member_type &lt;chr&gt; | Average_trip_length_mins &lt;dbl&gt; |\n",
       "|---|---|\n",
       "| casual | 32.00578 |\n",
       "| member | 13.63455 |\n",
       "\n"
      ],
      "text/plain": [
       "  member_type Average_trip_length_mins\n",
       "1 casual      32.00578                \n",
       "2 member      13.63455                "
      ]
     },
     "metadata": {},
     "output_type": "display_data"
    }
   ],
   "source": [
    "##Checking the mean trip length of all kind of members.\n",
    "\n",
    "trip_data %>%\n",
    "  group_by(member_type) %>%\n",
    " summarise(Average_trip_length_mins = mean(trip_length_mins)) "
   ]
  },
  {
   "cell_type": "markdown",
   "id": "74e7a2df",
   "metadata": {
    "papermill": {
     "duration": 0.00889,
     "end_time": "2022-11-16T16:07:52.953408",
     "exception": false,
     "start_time": "2022-11-16T16:07:52.944518",
     "status": "completed"
    },
    "tags": []
   },
   "source": [
    "From this we can deduce that Casual riders tend to use the bikes for longer minutes than members.\n",
    "\n",
    "\n",
    "- Lets find out how casual and members use cyclistic differently during weekdays and months.\n"
   ]
  },
  {
   "cell_type": "code",
   "execution_count": 10,
   "id": "32a210a6",
   "metadata": {
    "execution": {
     "iopub.execute_input": "2022-11-16T16:07:52.973929Z",
     "iopub.status.busy": "2022-11-16T16:07:52.972298Z",
     "iopub.status.idle": "2022-11-16T16:08:36.144470Z",
     "shell.execute_reply": "2022-11-16T16:08:36.142522Z"
    },
    "papermill": {
     "duration": 43.185349,
     "end_time": "2022-11-16T16:08:36.147235",
     "exception": false,
     "start_time": "2022-11-16T16:07:52.961886",
     "status": "completed"
    },
    "tags": []
   },
   "outputs": [
    {
     "name": "stderr",
     "output_type": "stream",
     "text": [
      "\u001b[1m\u001b[22m`summarise()` has grouped output by 'member_type'. You can override using the\n",
      "`.groups` argument.\n"
     ]
    },
    {
     "data": {
      "text/html": [
       "<table class=\"dataframe\">\n",
       "<caption>A grouped_df: 14 × 4</caption>\n",
       "<thead>\n",
       "\t<tr><th scope=col>member_type</th><th scope=col>weekdays</th><th scope=col>Average_trip_length_mins</th><th scope=col>total_rides</th></tr>\n",
       "\t<tr><th scope=col>&lt;chr&gt;</th><th scope=col>&lt;chr&gt;</th><th scope=col>&lt;dbl&gt;</th><th scope=col>&lt;int&gt;</th></tr>\n",
       "</thead>\n",
       "<tbody>\n",
       "\t<tr><td>casual</td><td>Friday   </td><td>30.35177</td><td>364037</td></tr>\n",
       "\t<tr><td>casual</td><td>Monday   </td><td>31.87912</td><td>286340</td></tr>\n",
       "\t<tr><td>casual</td><td>Saturday </td><td>34.70997</td><td>557934</td></tr>\n",
       "\t<tr><td>casual</td><td>Sunday   </td><td>37.57096</td><td>481048</td></tr>\n",
       "\t<tr><td>casual</td><td>Thursday </td><td>27.70578</td><td>286038</td></tr>\n",
       "\t<tr><td>casual</td><td>Tuesday  </td><td>27.97549</td><td>274357</td></tr>\n",
       "\t<tr><td>casual</td><td>Wednesday</td><td>27.66107</td><td>278910</td></tr>\n",
       "\t<tr><td>member</td><td>Friday   </td><td>13.32608</td><td>446384</td></tr>\n",
       "\t<tr><td>member</td><td>Monday   </td><td>13.24826</td><td>416181</td></tr>\n",
       "\t<tr><td>member</td><td>Saturday </td><td>15.26552</td><td>433014</td></tr>\n",
       "\t<tr><td>member</td><td>Sunday   </td><td>15.65923</td><td>376086</td></tr>\n",
       "\t<tr><td>member</td><td>Thursday </td><td>12.77703</td><td>451490</td></tr>\n",
       "\t<tr><td>member</td><td>Tuesday  </td><td>12.78908</td><td>465474</td></tr>\n",
       "\t<tr><td>member</td><td>Wednesday</td><td>12.82021</td><td>477117</td></tr>\n",
       "</tbody>\n",
       "</table>\n"
      ],
      "text/latex": [
       "A grouped\\_df: 14 × 4\n",
       "\\begin{tabular}{llll}\n",
       " member\\_type & weekdays & Average\\_trip\\_length\\_mins & total\\_rides\\\\\n",
       " <chr> & <chr> & <dbl> & <int>\\\\\n",
       "\\hline\n",
       "\t casual & Friday    & 30.35177 & 364037\\\\\n",
       "\t casual & Monday    & 31.87912 & 286340\\\\\n",
       "\t casual & Saturday  & 34.70997 & 557934\\\\\n",
       "\t casual & Sunday    & 37.57096 & 481048\\\\\n",
       "\t casual & Thursday  & 27.70578 & 286038\\\\\n",
       "\t casual & Tuesday   & 27.97549 & 274357\\\\\n",
       "\t casual & Wednesday & 27.66107 & 278910\\\\\n",
       "\t member & Friday    & 13.32608 & 446384\\\\\n",
       "\t member & Monday    & 13.24826 & 416181\\\\\n",
       "\t member & Saturday  & 15.26552 & 433014\\\\\n",
       "\t member & Sunday    & 15.65923 & 376086\\\\\n",
       "\t member & Thursday  & 12.77703 & 451490\\\\\n",
       "\t member & Tuesday   & 12.78908 & 465474\\\\\n",
       "\t member & Wednesday & 12.82021 & 477117\\\\\n",
       "\\end{tabular}\n"
      ],
      "text/markdown": [
       "\n",
       "A grouped_df: 14 × 4\n",
       "\n",
       "| member_type &lt;chr&gt; | weekdays &lt;chr&gt; | Average_trip_length_mins &lt;dbl&gt; | total_rides &lt;int&gt; |\n",
       "|---|---|---|---|\n",
       "| casual | Friday    | 30.35177 | 364037 |\n",
       "| casual | Monday    | 31.87912 | 286340 |\n",
       "| casual | Saturday  | 34.70997 | 557934 |\n",
       "| casual | Sunday    | 37.57096 | 481048 |\n",
       "| casual | Thursday  | 27.70578 | 286038 |\n",
       "| casual | Tuesday   | 27.97549 | 274357 |\n",
       "| casual | Wednesday | 27.66107 | 278910 |\n",
       "| member | Friday    | 13.32608 | 446384 |\n",
       "| member | Monday    | 13.24826 | 416181 |\n",
       "| member | Saturday  | 15.26552 | 433014 |\n",
       "| member | Sunday    | 15.65923 | 376086 |\n",
       "| member | Thursday  | 12.77703 | 451490 |\n",
       "| member | Tuesday   | 12.78908 | 465474 |\n",
       "| member | Wednesday | 12.82021 | 477117 |\n",
       "\n"
      ],
      "text/plain": [
       "   member_type weekdays  Average_trip_length_mins total_rides\n",
       "1  casual      Friday    30.35177                 364037     \n",
       "2  casual      Monday    31.87912                 286340     \n",
       "3  casual      Saturday  34.70997                 557934     \n",
       "4  casual      Sunday    37.57096                 481048     \n",
       "5  casual      Thursday  27.70578                 286038     \n",
       "6  casual      Tuesday   27.97549                 274357     \n",
       "7  casual      Wednesday 27.66107                 278910     \n",
       "8  member      Friday    13.32608                 446384     \n",
       "9  member      Monday    13.24826                 416181     \n",
       "10 member      Saturday  15.26552                 433014     \n",
       "11 member      Sunday    15.65923                 376086     \n",
       "12 member      Thursday  12.77703                 451490     \n",
       "13 member      Tuesday   12.78908                 465474     \n",
       "14 member      Wednesday 12.82021                 477117     "
      ]
     },
     "metadata": {},
     "output_type": "display_data"
    }
   ],
   "source": [
    "##Lets see how different member types use cyclistic during weekdays.\n",
    "\n",
    "\n",
    "trip_data %>%\n",
    "  group_by(member_type, weekdays) %>%\n",
    "  arrange(weekdays)%>%\n",
    " summarise(Average_trip_length_mins = mean(trip_length_mins), total_rides =n())"
   ]
  },
  {
   "cell_type": "markdown",
   "id": "3e8fcee9",
   "metadata": {
    "papermill": {
     "duration": 0.009116,
     "end_time": "2022-11-16T16:08:36.166271",
     "exception": false,
     "start_time": "2022-11-16T16:08:36.157155",
     "status": "completed"
    },
    "tags": []
   },
   "source": [
    "## - **Let's Visualize**"
   ]
  },
  {
   "cell_type": "markdown",
   "id": "2d07e8ab",
   "metadata": {
    "papermill": {
     "duration": 0.009018,
     "end_time": "2022-11-16T16:08:36.184361",
     "exception": false,
     "start_time": "2022-11-16T16:08:36.175343",
     "status": "completed"
    },
    "tags": []
   },
   "source": [
    "## **Weekly stats**"
   ]
  },
  {
   "cell_type": "code",
   "execution_count": 11,
   "id": "24583c13",
   "metadata": {
    "execution": {
     "iopub.execute_input": "2022-11-16T16:08:36.206922Z",
     "iopub.status.busy": "2022-11-16T16:08:36.205097Z",
     "iopub.status.idle": "2022-11-16T16:08:37.279725Z",
     "shell.execute_reply": "2022-11-16T16:08:37.277844Z"
    },
    "papermill": {
     "duration": 1.089719,
     "end_time": "2022-11-16T16:08:37.282945",
     "exception": false,
     "start_time": "2022-11-16T16:08:36.193226",
     "status": "completed"
    },
    "tags": []
   },
   "outputs": [
    {
     "name": "stderr",
     "output_type": "stream",
     "text": [
      "\u001b[1m\u001b[22m`summarise()` has grouped output by 'member_type'. You can override using the\n",
      "`.groups` argument.\n"
     ]
    },
    {
     "data": {
      "image/png": "[encoded data removed]"
     },
     "metadata": {
      "image/png": {
       "height": 420,
       "width": 420
      }
     },
     "output_type": "display_data"
    }
   ],
   "source": [
    "##Visualisation for weekdays\n",
    "trip_data %>%\n",
    "  group_by(member_type, weekdays) %>%\n",
    "  \n",
    " summarise(total_rides =n())%>%\n",
    "  \n",
    "  arrange( weekdays, member_type) %>%\n",
    "  ggplot() +\n",
    "                          \n",
    "  geom_col(width=0.7, position = position_dodge(width=0.7),mapping=aes(x=factor(weekdays, levels = c(\"Monday\", \"Tuesday\", \"Wednesday\", \"Thursday\", \"Friday\", \"Saturday\", \"Sunday\")), y=total_rides, fill=member_type))+\n",
    "  \n",
    "  theme(axis.text.x=element_text(angle=45))+\n",
    "  ##labels\n",
    "  labs(title=\"Total trip of diff. members on weekdays\", caption= paste0(\"Data from:Jan_2021 to Dec_2021\")) + \n",
    "         ylab(\"total_rides\") + \n",
    "         xlab(\"weekdays\")"
   ]
  },
  {
   "cell_type": "markdown",
   "id": "8a63a3ca",
   "metadata": {
    "papermill": {
     "duration": 0.009888,
     "end_time": "2022-11-16T16:08:37.303481",
     "exception": false,
     "start_time": "2022-11-16T16:08:37.293593",
     "status": "completed"
    },
    "tags": []
   },
   "source": [
    "From This column chart we can see that casual members tend to ride more on Saturdays and Sundays than any other day of the week, while people with members subscription tend to ride more on Tuesdays and Wednesdays than they do in other weekdays."
   ]
  },
  {
   "cell_type": "code",
   "execution_count": 12,
   "id": "0cf57538",
   "metadata": {
    "execution": {
     "iopub.execute_input": "2022-11-16T16:08:37.326487Z",
     "iopub.status.busy": "2022-11-16T16:08:37.324812Z",
     "iopub.status.idle": "2022-11-16T16:08:38.170728Z",
     "shell.execute_reply": "2022-11-16T16:08:38.168740Z"
    },
    "papermill": {
     "duration": 0.861642,
     "end_time": "2022-11-16T16:08:38.174708",
     "exception": false,
     "start_time": "2022-11-16T16:08:37.313066",
     "status": "completed"
    },
    "tags": []
   },
   "outputs": [
    {
     "name": "stderr",
     "output_type": "stream",
     "text": [
      "\u001b[1m\u001b[22m`summarise()` has grouped output by 'member_type'. You can override using the\n",
      "`.groups` argument.\n"
     ]
    },
    {
     "data": {
      "image/png": "[encoded data removed]"
     },
     "metadata": {
      "image/png": {
       "height": 420,
       "width": 420
      }
     },
     "output_type": "display_data"
    }
   ],
   "source": [
    "##Viz for weekdays\n",
    "trip_data %>%\n",
    "  group_by(member_type, weekdays) %>%\n",
    "  \n",
    " summarise(Average_trip_length =mean(trip_length_mins))%>%\n",
    "  \n",
    "  arrange( weekdays, member_type) %>%\n",
    "  ggplot() +\n",
    "                          \n",
    "  geom_col(width=0.7, position = position_dodge(width=0.7),mapping=aes(x=factor(weekdays, levels = c(\"Monday\", \"Tuesday\", \"Wednesday\", \"Thursday\", \"Friday\", \"Saturday\", \"Sunday\")), y=Average_trip_length, fill=member_type))+\n",
    "  \n",
    "  theme(axis.text.x=element_text(angle=45))+\n",
    "  ##labels\n",
    "  labs(title=\"Average trip length of different members on weekdays\", caption= paste0(\"Data from:Jan_2021 to Dec_2021\")) + \n",
    "         ylab(\"Average_trip_length\") + \n",
    "         xlab(\"weekdays\")"
   ]
  },
  {
   "cell_type": "markdown",
   "id": "12179ab1",
   "metadata": {
    "papermill": {
     "duration": 0.010728,
     "end_time": "2022-11-16T16:08:38.196269",
     "exception": false,
     "start_time": "2022-11-16T16:08:38.185541",
     "status": "completed"
    },
    "tags": []
   },
   "source": [
    "From This column chart we can see that the average trip of casual members are higher Saturdays and Sundays than any other day of the week, And people with members subscription tend to ride more on Saturdays andd Sundays too."
   ]
  },
  {
   "cell_type": "markdown",
   "id": "e4073ba3",
   "metadata": {
    "papermill": {
     "duration": 0.010684,
     "end_time": "2022-11-16T16:08:38.217309",
     "exception": false,
     "start_time": "2022-11-16T16:08:38.206625",
     "status": "completed"
    },
    "tags": []
   },
   "source": [
    "## **Monthly Stats**"
   ]
  },
  {
   "cell_type": "code",
   "execution_count": 13,
   "id": "d2d175e1",
   "metadata": {
    "execution": {
     "iopub.execute_input": "2022-11-16T16:08:38.242594Z",
     "iopub.status.busy": "2022-11-16T16:08:38.240935Z",
     "iopub.status.idle": "2022-11-16T16:08:55.159268Z",
     "shell.execute_reply": "2022-11-16T16:08:55.157494Z"
    },
    "papermill": {
     "duration": 16.934829,
     "end_time": "2022-11-16T16:08:55.162537",
     "exception": false,
     "start_time": "2022-11-16T16:08:38.227708",
     "status": "completed"
    },
    "tags": []
   },
   "outputs": [
    {
     "name": "stderr",
     "output_type": "stream",
     "text": [
      "\u001b[1m\u001b[22m`summarise()` has grouped output by 'member_type'. You can override using the\n",
      "`.groups` argument.\n"
     ]
    },
    {
     "data": {
      "text/html": [
       "<table class=\"dataframe\">\n",
       "<caption>A grouped_df: 24 × 4</caption>\n",
       "<thead>\n",
       "\t<tr><th scope=col>member_type</th><th scope=col>months</th><th scope=col>Average_trip_length_mins</th><th scope=col>total_rides</th></tr>\n",
       "\t<tr><th scope=col>&lt;chr&gt;</th><th scope=col>&lt;chr&gt;</th><th scope=col>&lt;dbl&gt;</th><th scope=col>&lt;int&gt;</th></tr>\n",
       "</thead>\n",
       "<tbody>\n",
       "\t<tr><td>casual</td><td>Apr_21</td><td>38.02605</td><td>136590</td></tr>\n",
       "\t<tr><td>casual</td><td>Aug_21</td><td>28.79078</td><td>412608</td></tr>\n",
       "\t<tr><td>casual</td><td>Dec_21</td><td>23.49732</td><td> 69729</td></tr>\n",
       "\t<tr><td>casual</td><td>Feb_21</td><td>49.37810</td><td> 10130</td></tr>\n",
       "\t<tr><td>casual</td><td>Jan_21</td><td>25.68459</td><td> 18117</td></tr>\n",
       "\t<tr><td>casual</td><td>Jul_21</td><td>32.79351</td><td>442011</td></tr>\n",
       "\t<tr><td>casual</td><td>Jun_21</td><td>37.12595</td><td>370636</td></tr>\n",
       "\t<tr><td>casual</td><td>Mar_21</td><td>38.16100</td><td> 84028</td></tr>\n",
       "\t<tr><td>casual</td><td>May_21</td><td>38.23513</td><td>256888</td></tr>\n",
       "\t<tr><td>casual</td><td>Nov_21</td><td>23.13548</td><td>106884</td></tr>\n",
       "\t<tr><td>casual</td><td>Oct_21</td><td>28.67832</td><td>257203</td></tr>\n",
       "\t<tr><td>casual</td><td>Sep_21</td><td>27.81882</td><td>363840</td></tr>\n",
       "\t<tr><td>member</td><td>Apr_21</td><td>14.69082</td><td>200602</td></tr>\n",
       "\t<tr><td>member</td><td>Aug_21</td><td>14.10242</td><td>391637</td></tr>\n",
       "\t<tr><td>member</td><td>Dec_21</td><td>11.00568</td><td>177790</td></tr>\n",
       "\t<tr><td>member</td><td>Feb_21</td><td>18.02345</td><td> 39488</td></tr>\n",
       "\t<tr><td>member</td><td>Jan_21</td><td>12.87297</td><td> 78711</td></tr>\n",
       "\t<tr><td>member</td><td>Jul_21</td><td>14.24070</td><td>380317</td></tr>\n",
       "\t<tr><td>member</td><td>Jun_21</td><td>14.67866</td><td>358893</td></tr>\n",
       "\t<tr><td>member</td><td>Mar_21</td><td>13.97063</td><td>144456</td></tr>\n",
       "\t<tr><td>member</td><td>May_21</td><td>14.64030</td><td>274691</td></tr>\n",
       "\t<tr><td>member</td><td>Nov_21</td><td>11.31012</td><td>253008</td></tr>\n",
       "\t<tr><td>member</td><td>Oct_21</td><td>12.50311</td><td>373953</td></tr>\n",
       "\t<tr><td>member</td><td>Sep_21</td><td>13.73658</td><td>392200</td></tr>\n",
       "</tbody>\n",
       "</table>\n"
      ],
      "text/latex": [
       "A grouped\\_df: 24 × 4\n",
       "\\begin{tabular}{llll}\n",
       " member\\_type & months & Average\\_trip\\_length\\_mins & total\\_rides\\\\\n",
       " <chr> & <chr> & <dbl> & <int>\\\\\n",
       "\\hline\n",
       "\t casual & Apr\\_21 & 38.02605 & 136590\\\\\n",
       "\t casual & Aug\\_21 & 28.79078 & 412608\\\\\n",
       "\t casual & Dec\\_21 & 23.49732 &  69729\\\\\n",
       "\t casual & Feb\\_21 & 49.37810 &  10130\\\\\n",
       "\t casual & Jan\\_21 & 25.68459 &  18117\\\\\n",
       "\t casual & Jul\\_21 & 32.79351 & 442011\\\\\n",
       "\t casual & Jun\\_21 & 37.12595 & 370636\\\\\n",
       "\t casual & Mar\\_21 & 38.16100 &  84028\\\\\n",
       "\t casual & May\\_21 & 38.23513 & 256888\\\\\n",
       "\t casual & Nov\\_21 & 23.13548 & 106884\\\\\n",
       "\t casual & Oct\\_21 & 28.67832 & 257203\\\\\n",
       "\t casual & Sep\\_21 & 27.81882 & 363840\\\\\n",
       "\t member & Apr\\_21 & 14.69082 & 200602\\\\\n",
       "\t member & Aug\\_21 & 14.10242 & 391637\\\\\n",
       "\t member & Dec\\_21 & 11.00568 & 177790\\\\\n",
       "\t member & Feb\\_21 & 18.02345 &  39488\\\\\n",
       "\t member & Jan\\_21 & 12.87297 &  78711\\\\\n",
       "\t member & Jul\\_21 & 14.24070 & 380317\\\\\n",
       "\t member & Jun\\_21 & 14.67866 & 358893\\\\\n",
       "\t member & Mar\\_21 & 13.97063 & 144456\\\\\n",
       "\t member & May\\_21 & 14.64030 & 274691\\\\\n",
       "\t member & Nov\\_21 & 11.31012 & 253008\\\\\n",
       "\t member & Oct\\_21 & 12.50311 & 373953\\\\\n",
       "\t member & Sep\\_21 & 13.73658 & 392200\\\\\n",
       "\\end{tabular}\n"
      ],
      "text/markdown": [
       "\n",
       "A grouped_df: 24 × 4\n",
       "\n",
       "| member_type &lt;chr&gt; | months &lt;chr&gt; | Average_trip_length_mins &lt;dbl&gt; | total_rides &lt;int&gt; |\n",
       "|---|---|---|---|\n",
       "| casual | Apr_21 | 38.02605 | 136590 |\n",
       "| casual | Aug_21 | 28.79078 | 412608 |\n",
       "| casual | Dec_21 | 23.49732 |  69729 |\n",
       "| casual | Feb_21 | 49.37810 |  10130 |\n",
       "| casual | Jan_21 | 25.68459 |  18117 |\n",
       "| casual | Jul_21 | 32.79351 | 442011 |\n",
       "| casual | Jun_21 | 37.12595 | 370636 |\n",
       "| casual | Mar_21 | 38.16100 |  84028 |\n",
       "| casual | May_21 | 38.23513 | 256888 |\n",
       "| casual | Nov_21 | 23.13548 | 106884 |\n",
       "| casual | Oct_21 | 28.67832 | 257203 |\n",
       "| casual | Sep_21 | 27.81882 | 363840 |\n",
       "| member | Apr_21 | 14.69082 | 200602 |\n",
       "| member | Aug_21 | 14.10242 | 391637 |\n",
       "| member | Dec_21 | 11.00568 | 177790 |\n",
       "| member | Feb_21 | 18.02345 |  39488 |\n",
       "| member | Jan_21 | 12.87297 |  78711 |\n",
       "| member | Jul_21 | 14.24070 | 380317 |\n",
       "| member | Jun_21 | 14.67866 | 358893 |\n",
       "| member | Mar_21 | 13.97063 | 144456 |\n",
       "| member | May_21 | 14.64030 | 274691 |\n",
       "| member | Nov_21 | 11.31012 | 253008 |\n",
       "| member | Oct_21 | 12.50311 | 373953 |\n",
       "| member | Sep_21 | 13.73658 | 392200 |\n",
       "\n"
      ],
      "text/plain": [
       "   member_type months Average_trip_length_mins total_rides\n",
       "1  casual      Apr_21 38.02605                 136590     \n",
       "2  casual      Aug_21 28.79078                 412608     \n",
       "3  casual      Dec_21 23.49732                  69729     \n",
       "4  casual      Feb_21 49.37810                  10130     \n",
       "5  casual      Jan_21 25.68459                  18117     \n",
       "6  casual      Jul_21 32.79351                 442011     \n",
       "7  casual      Jun_21 37.12595                 370636     \n",
       "8  casual      Mar_21 38.16100                  84028     \n",
       "9  casual      May_21 38.23513                 256888     \n",
       "10 casual      Nov_21 23.13548                 106884     \n",
       "11 casual      Oct_21 28.67832                 257203     \n",
       "12 casual      Sep_21 27.81882                 363840     \n",
       "13 member      Apr_21 14.69082                 200602     \n",
       "14 member      Aug_21 14.10242                 391637     \n",
       "15 member      Dec_21 11.00568                 177790     \n",
       "16 member      Feb_21 18.02345                  39488     \n",
       "17 member      Jan_21 12.87297                  78711     \n",
       "18 member      Jul_21 14.24070                 380317     \n",
       "19 member      Jun_21 14.67866                 358893     \n",
       "20 member      Mar_21 13.97063                 144456     \n",
       "21 member      May_21 14.64030                 274691     \n",
       "22 member      Nov_21 11.31012                 253008     \n",
       "23 member      Oct_21 12.50311                 373953     \n",
       "24 member      Sep_21 13.73658                 392200     "
      ]
     },
     "metadata": {},
     "output_type": "display_data"
    }
   ],
   "source": [
    "##Months stats\n",
    "trip_data %>%\n",
    "  group_by(member_type, months) %>%\n",
    "  arrange(member_type,months)%>%\n",
    " summarise(Average_trip_length_mins = mean(trip_length_mins), total_rides =n())"
   ]
  },
  {
   "cell_type": "code",
   "execution_count": 14,
   "id": "85d62397",
   "metadata": {
    "execution": {
     "iopub.execute_input": "2022-11-16T16:08:55.189690Z",
     "iopub.status.busy": "2022-11-16T16:08:55.188172Z",
     "iopub.status.idle": "2022-11-16T16:09:11.750910Z",
     "shell.execute_reply": "2022-11-16T16:09:11.749143Z"
    },
    "papermill": {
     "duration": 16.579313,
     "end_time": "2022-11-16T16:09:11.753877",
     "exception": false,
     "start_time": "2022-11-16T16:08:55.174564",
     "status": "completed"
    },
    "tags": []
   },
   "outputs": [
    {
     "name": "stderr",
     "output_type": "stream",
     "text": [
      "\u001b[1m\u001b[22m`summarise()` has grouped output by 'member_type'. You can override using the\n",
      "`.groups` argument.\n"
     ]
    },
    {
     "data": {
      "text/html": [
       "<table class=\"dataframe\">\n",
       "<caption>A grouped_df: 24 × 4</caption>\n",
       "<thead>\n",
       "\t<tr><th scope=col>member_type</th><th scope=col>months</th><th scope=col>Average_trip_length_mins</th><th scope=col>total_rides</th></tr>\n",
       "\t<tr><th scope=col>&lt;chr&gt;</th><th scope=col>&lt;chr&gt;</th><th scope=col>&lt;dbl&gt;</th><th scope=col>&lt;int&gt;</th></tr>\n",
       "</thead>\n",
       "<tbody>\n",
       "\t<tr><td>casual</td><td>Apr_21</td><td>38.02605</td><td>136590</td></tr>\n",
       "\t<tr><td>casual</td><td>Aug_21</td><td>28.79078</td><td>412608</td></tr>\n",
       "\t<tr><td>casual</td><td>Dec_21</td><td>23.49732</td><td> 69729</td></tr>\n",
       "\t<tr><td>casual</td><td>Feb_21</td><td>49.37810</td><td> 10130</td></tr>\n",
       "\t<tr><td>casual</td><td>Jan_21</td><td>25.68459</td><td> 18117</td></tr>\n",
       "\t<tr><td>casual</td><td>Jul_21</td><td>32.79351</td><td>442011</td></tr>\n",
       "\t<tr><td>casual</td><td>Jun_21</td><td>37.12595</td><td>370636</td></tr>\n",
       "\t<tr><td>casual</td><td>Mar_21</td><td>38.16100</td><td> 84028</td></tr>\n",
       "\t<tr><td>casual</td><td>May_21</td><td>38.23513</td><td>256888</td></tr>\n",
       "\t<tr><td>casual</td><td>Nov_21</td><td>23.13548</td><td>106884</td></tr>\n",
       "\t<tr><td>casual</td><td>Oct_21</td><td>28.67832</td><td>257203</td></tr>\n",
       "\t<tr><td>casual</td><td>Sep_21</td><td>27.81882</td><td>363840</td></tr>\n",
       "\t<tr><td>member</td><td>Apr_21</td><td>14.69082</td><td>200602</td></tr>\n",
       "\t<tr><td>member</td><td>Aug_21</td><td>14.10242</td><td>391637</td></tr>\n",
       "\t<tr><td>member</td><td>Dec_21</td><td>11.00568</td><td>177790</td></tr>\n",
       "\t<tr><td>member</td><td>Feb_21</td><td>18.02345</td><td> 39488</td></tr>\n",
       "\t<tr><td>member</td><td>Jan_21</td><td>12.87297</td><td> 78711</td></tr>\n",
       "\t<tr><td>member</td><td>Jul_21</td><td>14.24070</td><td>380317</td></tr>\n",
       "\t<tr><td>member</td><td>Jun_21</td><td>14.67866</td><td>358893</td></tr>\n",
       "\t<tr><td>member</td><td>Mar_21</td><td>13.97063</td><td>144456</td></tr>\n",
       "\t<tr><td>member</td><td>May_21</td><td>14.64030</td><td>274691</td></tr>\n",
       "\t<tr><td>member</td><td>Nov_21</td><td>11.31012</td><td>253008</td></tr>\n",
       "\t<tr><td>member</td><td>Oct_21</td><td>12.50311</td><td>373953</td></tr>\n",
       "\t<tr><td>member</td><td>Sep_21</td><td>13.73658</td><td>392200</td></tr>\n",
       "</tbody>\n",
       "</table>\n"
      ],
      "text/latex": [
       "A grouped\\_df: 24 × 4\n",
       "\\begin{tabular}{llll}\n",
       " member\\_type & months & Average\\_trip\\_length\\_mins & total\\_rides\\\\\n",
       " <chr> & <chr> & <dbl> & <int>\\\\\n",
       "\\hline\n",
       "\t casual & Apr\\_21 & 38.02605 & 136590\\\\\n",
       "\t casual & Aug\\_21 & 28.79078 & 412608\\\\\n",
       "\t casual & Dec\\_21 & 23.49732 &  69729\\\\\n",
       "\t casual & Feb\\_21 & 49.37810 &  10130\\\\\n",
       "\t casual & Jan\\_21 & 25.68459 &  18117\\\\\n",
       "\t casual & Jul\\_21 & 32.79351 & 442011\\\\\n",
       "\t casual & Jun\\_21 & 37.12595 & 370636\\\\\n",
       "\t casual & Mar\\_21 & 38.16100 &  84028\\\\\n",
       "\t casual & May\\_21 & 38.23513 & 256888\\\\\n",
       "\t casual & Nov\\_21 & 23.13548 & 106884\\\\\n",
       "\t casual & Oct\\_21 & 28.67832 & 257203\\\\\n",
       "\t casual & Sep\\_21 & 27.81882 & 363840\\\\\n",
       "\t member & Apr\\_21 & 14.69082 & 200602\\\\\n",
       "\t member & Aug\\_21 & 14.10242 & 391637\\\\\n",
       "\t member & Dec\\_21 & 11.00568 & 177790\\\\\n",
       "\t member & Feb\\_21 & 18.02345 &  39488\\\\\n",
       "\t member & Jan\\_21 & 12.87297 &  78711\\\\\n",
       "\t member & Jul\\_21 & 14.24070 & 380317\\\\\n",
       "\t member & Jun\\_21 & 14.67866 & 358893\\\\\n",
       "\t member & Mar\\_21 & 13.97063 & 144456\\\\\n",
       "\t member & May\\_21 & 14.64030 & 274691\\\\\n",
       "\t member & Nov\\_21 & 11.31012 & 253008\\\\\n",
       "\t member & Oct\\_21 & 12.50311 & 373953\\\\\n",
       "\t member & Sep\\_21 & 13.73658 & 392200\\\\\n",
       "\\end{tabular}\n"
      ],
      "text/markdown": [
       "\n",
       "A grouped_df: 24 × 4\n",
       "\n",
       "| member_type &lt;chr&gt; | months &lt;chr&gt; | Average_trip_length_mins &lt;dbl&gt; | total_rides &lt;int&gt; |\n",
       "|---|---|---|---|\n",
       "| casual | Apr_21 | 38.02605 | 136590 |\n",
       "| casual | Aug_21 | 28.79078 | 412608 |\n",
       "| casual | Dec_21 | 23.49732 |  69729 |\n",
       "| casual | Feb_21 | 49.37810 |  10130 |\n",
       "| casual | Jan_21 | 25.68459 |  18117 |\n",
       "| casual | Jul_21 | 32.79351 | 442011 |\n",
       "| casual | Jun_21 | 37.12595 | 370636 |\n",
       "| casual | Mar_21 | 38.16100 |  84028 |\n",
       "| casual | May_21 | 38.23513 | 256888 |\n",
       "| casual | Nov_21 | 23.13548 | 106884 |\n",
       "| casual | Oct_21 | 28.67832 | 257203 |\n",
       "| casual | Sep_21 | 27.81882 | 363840 |\n",
       "| member | Apr_21 | 14.69082 | 200602 |\n",
       "| member | Aug_21 | 14.10242 | 391637 |\n",
       "| member | Dec_21 | 11.00568 | 177790 |\n",
       "| member | Feb_21 | 18.02345 |  39488 |\n",
       "| member | Jan_21 | 12.87297 |  78711 |\n",
       "| member | Jul_21 | 14.24070 | 380317 |\n",
       "| member | Jun_21 | 14.67866 | 358893 |\n",
       "| member | Mar_21 | 13.97063 | 144456 |\n",
       "| member | May_21 | 14.64030 | 274691 |\n",
       "| member | Nov_21 | 11.31012 | 253008 |\n",
       "| member | Oct_21 | 12.50311 | 373953 |\n",
       "| member | Sep_21 | 13.73658 | 392200 |\n",
       "\n"
      ],
      "text/plain": [
       "   member_type months Average_trip_length_mins total_rides\n",
       "1  casual      Apr_21 38.02605                 136590     \n",
       "2  casual      Aug_21 28.79078                 412608     \n",
       "3  casual      Dec_21 23.49732                  69729     \n",
       "4  casual      Feb_21 49.37810                  10130     \n",
       "5  casual      Jan_21 25.68459                  18117     \n",
       "6  casual      Jul_21 32.79351                 442011     \n",
       "7  casual      Jun_21 37.12595                 370636     \n",
       "8  casual      Mar_21 38.16100                  84028     \n",
       "9  casual      May_21 38.23513                 256888     \n",
       "10 casual      Nov_21 23.13548                 106884     \n",
       "11 casual      Oct_21 28.67832                 257203     \n",
       "12 casual      Sep_21 27.81882                 363840     \n",
       "13 member      Apr_21 14.69082                 200602     \n",
       "14 member      Aug_21 14.10242                 391637     \n",
       "15 member      Dec_21 11.00568                 177790     \n",
       "16 member      Feb_21 18.02345                  39488     \n",
       "17 member      Jan_21 12.87297                  78711     \n",
       "18 member      Jul_21 14.24070                 380317     \n",
       "19 member      Jun_21 14.67866                 358893     \n",
       "20 member      Mar_21 13.97063                 144456     \n",
       "21 member      May_21 14.64030                 274691     \n",
       "22 member      Nov_21 11.31012                 253008     \n",
       "23 member      Oct_21 12.50311                 373953     \n",
       "24 member      Sep_21 13.73658                 392200     "
      ]
     },
     "metadata": {},
     "output_type": "display_data"
    }
   ],
   "source": [
    "trip_data %>%\n",
    "  group_by(member_type, months) %>%\n",
    "  arrange(member_type,months)%>%\n",
    " summarise(Average_trip_length_mins = mean(trip_length_mins), total_rides =n())"
   ]
  },
  {
   "cell_type": "code",
   "execution_count": 15,
   "id": "8589f018",
   "metadata": {
    "execution": {
     "iopub.execute_input": "2022-11-16T16:09:11.780412Z",
     "iopub.status.busy": "2022-11-16T16:09:11.778829Z",
     "iopub.status.idle": "2022-11-16T16:09:12.403698Z",
     "shell.execute_reply": "2022-11-16T16:09:12.401769Z"
    },
    "papermill": {
     "duration": 0.641245,
     "end_time": "2022-11-16T16:09:12.406355",
     "exception": false,
     "start_time": "2022-11-16T16:09:11.765110",
     "status": "completed"
    },
    "tags": []
   },
   "outputs": [
    {
     "name": "stderr",
     "output_type": "stream",
     "text": [
      "\u001b[1m\u001b[22m`summarise()` has grouped output by 'member_type'. You can override using the\n",
      "`.groups` argument.\n"
     ]
    },
    {
     "data": {
      "image/png": "[encoded data removed]"
     },
     "metadata": {
      "image/png": {
       "height": 420,
       "width": 420
      }
     },
     "output_type": "display_data"
    }
   ],
   "source": [
    "##Visualisation for weekdays\n",
    "trip_data %>%\n",
    "  group_by(member_type, months) %>%\n",
    "  \n",
    " summarise(total_rides =n())%>%\n",
    "  \n",
    "  arrange( months, member_type) %>%\n",
    "  ggplot() +\n",
    "                          \n",
    "  geom_col(width=0.5, position = position_dodge(width=0.5),mapping=aes(x=factor(months, levels = c(\"Jan_21\", \"Feb_21\", \"Mar_21\", \"Apr_21\", \"May_21\", \"Jun_21\", \"Jul_21\", \"Aug_21\",\"Sep_21\", \"Oct_21\", \"Nov_21\", \"Dec_21\")), y=total_rides, fill=member_type))+\n",
    "  \n",
    "  theme(axis.text.x=element_text(angle=45))+\n",
    "  ##labels\n",
    "  labs(title=\"Total ride vs Months\", caption= paste0(\"Data from:Jan_2021 to Dec_2021\")) + \n",
    "         ylab(\"Total_rides\") + \n",
    "         xlab(\"Months\") \n",
    "  "
   ]
  },
  {
   "cell_type": "markdown",
   "id": "b5d98066",
   "metadata": {
    "papermill": {
     "duration": 0.01249,
     "end_time": "2022-11-16T16:09:12.431232",
     "exception": false,
     "start_time": "2022-11-16T16:09:12.418742",
     "status": "completed"
    },
    "tags": []
   },
   "source": [
    "From this  chart we can deduce that **causal** riders experienced a peak rise in the month of june ,july, August and September than any other month in the year. The month of may and october had a moderate number of causal riders. But January, February and December are the month with the least amount of causal riders.\n",
    "~~~~~~~~\n",
    "While **members** subcribers experienced a peak rise in the month of June, July , August, September, October and experienced dip in the month of January and February. \n",
    "\n",
    "I will create a line chart for this."
   ]
  },
  {
   "cell_type": "code",
   "execution_count": 16,
   "id": "81de7556",
   "metadata": {
    "execution": {
     "iopub.execute_input": "2022-11-16T16:09:12.458933Z",
     "iopub.status.busy": "2022-11-16T16:09:12.457289Z",
     "iopub.status.idle": "2022-11-16T16:09:13.095563Z",
     "shell.execute_reply": "2022-11-16T16:09:13.093635Z"
    },
    "papermill": {
     "duration": 0.654627,
     "end_time": "2022-11-16T16:09:13.097848",
     "exception": false,
     "start_time": "2022-11-16T16:09:12.443221",
     "status": "completed"
    },
    "tags": []
   },
   "outputs": [
    {
     "name": "stderr",
     "output_type": "stream",
     "text": [
      "\u001b[1m\u001b[22m`summarise()` has grouped output by 'member_type'. You can override using the\n",
      "`.groups` argument.\n"
     ]
    },
    {
     "data": {
      "image/png": "[encoded data removed]"
     },
     "metadata": {
      "image/png": {
       "height": 420,
       "width": 420
      }
     },
     "output_type": "display_data"
    }
   ],
   "source": [
    "##Viz for months\n",
    "trip_data %>%\n",
    "  group_by(member_type, months) %>%\n",
    "  \n",
    " summarise(total_rides =n())%>%\n",
    "  \n",
    "  ggplot() +\n",
    "                          \n",
    "  geom_line(mapping=aes(x=factor(months, levels = c(\"Jan_21\", \"Feb_21\", \"Mar_21\", \"Apr_21\", \"May_21\", \"Jun_21\", \"Jul_21\", \"Aug_21\",\"Sep_21\", \"Oct_21\", \"Nov_21\", \"Dec_21\")), y=total_rides, color=member_type, group=member_type))+\n",
    "  \n",
    "  theme(axis.text.x=element_text(angle=45))+\n",
    "  ##labels\n",
    "  labs(title=\"Line Chart for total rides for year 2021\", caption= paste0(\"Data from:Jan_2021 to Dec_2021\")) + \n",
    "         ylab(\"Total_rides\") + \n",
    "         xlab(\"Months\") \n",
    "  "
   ]
  },
  {
   "cell_type": "markdown",
   "id": "925f35fe",
   "metadata": {
    "papermill": {
     "duration": 0.014497,
     "end_time": "2022-11-16T16:09:13.126012",
     "exception": false,
     "start_time": "2022-11-16T16:09:13.111515",
     "status": "completed"
    },
    "tags": []
   },
   "source": [
    "We can hypothetically point out that **casual** riders are seasonal riders(weather). Theey tend to use cyclistic less during the winter season and use cyclistic the most during summer.\n",
    "\n"
   ]
  },
  {
   "cell_type": "code",
   "execution_count": 17,
   "id": "31044519",
   "metadata": {
    "execution": {
     "iopub.execute_input": "2022-11-16T16:09:13.157100Z",
     "iopub.status.busy": "2022-11-16T16:09:13.155480Z",
     "iopub.status.idle": "2022-11-16T16:09:14.187992Z",
     "shell.execute_reply": "2022-11-16T16:09:14.186118Z"
    },
    "papermill": {
     "duration": 1.051128,
     "end_time": "2022-11-16T16:09:14.190612",
     "exception": false,
     "start_time": "2022-11-16T16:09:13.139484",
     "status": "completed"
    },
    "tags": []
   },
   "outputs": [
    {
     "name": "stderr",
     "output_type": "stream",
     "text": [
      "\u001b[1m\u001b[22m`summarise()` has grouped output by 'member_type'. You can override using the\n",
      "`.groups` argument.\n"
     ]
    },
    {
     "data": {
      "image/png": "[encoded data removed]"
     },
     "metadata": {
      "image/png": {
       "height": 420,
       "width": 420
      }
     },
     "output_type": "display_data"
    }
   ],
   "source": [
    "##Viz for weekdays\n",
    "trip_data %>%\n",
    "  group_by(member_type, months) %>%\n",
    "  \n",
    " summarise(Average_trip_length = mean(trip_length_mins))%>%\n",
    "  \n",
    "  arrange( months, member_type) %>%\n",
    "  ggplot() +\n",
    "                          \n",
    "  geom_col(width=0.5, position = position_dodge(width=0.5),mapping=aes(x=factor(months, levels = c(\"Jan_21\", \"Feb_21\", \"Mar_21\", \"Apr_21\", \"May_21\", \"Jun_21\", \"Jul_21\", \"Aug_21\",\"Sep_21\", \"Oct_21\", \"Nov_21\", \"Dec_21\")), y=Average_trip_length, fill=member_type))+\n",
    "  \n",
    "  theme(axis.text.x=element_text(angle=45))+\n",
    "\n",
    "\n",
    "  ##labels\n",
    "  labs(title=\"Average_Trip_Length vs Months\", caption= paste0(\"Data from:Jan_2021 to Dec_2021\")) + \n",
    "         ylab(\"Average Trip length\") + \n",
    "         xlab(\"Months\") \n",
    "  "
   ]
  },
  {
   "cell_type": "markdown",
   "id": "b81464af",
   "metadata": {
    "papermill": {
     "duration": 0.014737,
     "end_time": "2022-11-16T16:09:14.220639",
     "exception": false,
     "start_time": "2022-11-16T16:09:14.205902",
     "status": "completed"
    },
    "tags": []
   },
   "source": [
    "## **Key Takeaway**\n",
    "\n",
    "- Causal members use cyclistic  more than member subscribers.\n",
    "\n",
    "- The average trip length for causal riders is 32.00578 and that of members is 13.63455. That means the average length of ride for casual riders is more than twice than that of members. This means casual riders take bikes for longer minutes than members\n",
    "\n",
    "- Both casual riders and members ride less at the begining of the year but ride more at the middle of the year, which is summer.\n",
    "- The average trip length for casual riders for the month of february supersedes all other months\n",
    "\n",
    "\n",
    "\n",
    "## **Recommendations**\n",
    "\n",
    "- Cyclistic should hold a promotion at the begining of the month of **february**, to attract casual customers that take longer trips so as they can be converted to members.\n",
    "\n",
    "- Cyclistic should run another promotion for casual riders during **summer** for the purpose of converting them to members. This promotion should make them see the membership subscription in a new light so that they can opt in. \n",
    "\n",
    "- Guides should be provided for users of cyclistic on how to safely ride bikes during winter. This might the number of rides during such seasons. "
   ]
  }
 ],
 "metadata": {
  "kernelspec": {
   "display_name": "R",
   "language": "R",
   "name": "ir"
  },
  "language_info": {
   "codemirror_mode": "r",
   "file_extension": ".r",
   "mimetype": "text/x-r-source",
   "name": "R",
   "pygments_lexer": "r",
   "version": "4.0.5"
  },
  "papermill": {
   "default_parameters": {},
   "duration": 139.195067,
   "end_time": "2022-11-16T16:09:14.457887",
   "environment_variables": {},
   "exception": null,
   "input_path": "__notebook__.ipynb",
   "output_path": "__notebook__.ipynb",
   "parameters": {},
   "start_time": "2022-11-16T16:06:55.262820",
   "version": "2.4.0"
  }
 },
 "nbformat": 4,
 "nbformat_minor": 5
}
